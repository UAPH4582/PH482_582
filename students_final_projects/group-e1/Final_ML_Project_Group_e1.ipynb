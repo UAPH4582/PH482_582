{
  "nbformat": 4,
  "nbformat_minor": 0,
  "metadata": {
    "kernelspec": {
      "display_name": "Python 3",
      "language": "python",
      "name": "python3"
    },
    "language_info": {
      "codemirror_mode": {
        "name": "ipython",
        "version": 3
      },
      "file_extension": ".py",
      "mimetype": "text/x-python",
      "name": "python",
      "nbconvert_exporter": "python",
      "pygments_lexer": "ipython3",
      "version": "3.7.9"
    },
    "colab": {
      "name": "Final Copy of ML Project Mushroom 04/29.ipynb",
      "provenance": []
    }
  },
  "cells": [
    {
      "cell_type": "code",
      "metadata": {
        "id": "Ajvnes6T-cuQ"
      },
      "source": [
        "# Python ≥3.5 is required\n",
        "import sys\n",
        "assert sys.version_info >= (3, 5)\n",
        "\n",
        "# Scikit-Learn ≥0.20 is required\n",
        "import sklearn\n",
        "assert sklearn.__version__ >= \"0.20\"\n",
        "\n",
        "# Common imports\n",
        "import numpy as np\n",
        "import os\n",
        "\n",
        "# to make this notebook's output stable across runs\n",
        "np.random.seed(42)\n",
        "\n",
        "# To plot pretty figures\n",
        "%matplotlib inline\n",
        "import matplotlib as plt\n",
        "import matplotlib.pyplot as plt\n",
        "plt.rc('axes', labelsize=14)\n",
        "plt.rc('xtick', labelsize=12)\n",
        "plt.rc('ytick', labelsize=12)\n",
        "\n",
        "from sklearn.datasets import make_gaussian_quantiles\n",
        "from sklearn.ensemble import AdaBoostClassifier\n",
        "from sklearn.metrics import accuracy_score\n",
        "from sklearn.tree import DecisionTreeClassifier\n",
        "from sklearn.metrics import confusion_matrix\n",
        "\n",
        "from sklearn.model_selection import train_test_split\n",
        "import pandas as pd"
      ],
      "execution_count": 1,
      "outputs": []
    },
    {
      "cell_type": "code",
      "metadata": {
        "id": "7R5P9SHjX_QS"
      },
      "source": [
        ""
      ],
      "execution_count": null,
      "outputs": []
    },
    {
      "cell_type": "code",
      "metadata": {
        "id": "dOUuI5Ee-cuW"
      },
      "source": [
        "# data = pd.read_csv(r'C:\\Users\\nates\\Documents\\Jupyter Notebooks\\PH 482 Machine Learning\\Modified Files\\agaricus-lepiota.data')\n",
        "data = pd.read_csv(url)\n"
      ],
      "execution_count": 3,
      "outputs": []
    },
    {
      "cell_type": "code",
      "metadata": {
        "colab": {
          "base_uri": "https://localhost:8080/",
          "height": 275
        },
        "id": "I52SHCX4YcDu",
        "outputId": "32ab21dd-c7cf-4cd9-8cd4-3837a48cc2d5"
      },
      "source": [
        "data.head()"
      ],
      "execution_count": 4,
      "outputs": [
        {
          "output_type": "execute_result",
          "data": {
            "text/html": [
              "<div>\n",
              "<style scoped>\n",
              "    .dataframe tbody tr th:only-of-type {\n",
              "        vertical-align: middle;\n",
              "    }\n",
              "\n",
              "    .dataframe tbody tr th {\n",
              "        vertical-align: top;\n",
              "    }\n",
              "\n",
              "    .dataframe thead th {\n",
              "        text-align: right;\n",
              "    }\n",
              "</style>\n",
              "<table border=\"1\" class=\"dataframe\">\n",
              "  <thead>\n",
              "    <tr style=\"text-align: right;\">\n",
              "      <th></th>\n",
              "      <th>class</th>\n",
              "      <th>cap-shape</th>\n",
              "      <th>cap-surface</th>\n",
              "      <th>cap-color</th>\n",
              "      <th>bruises</th>\n",
              "      <th>odor</th>\n",
              "      <th>gill-attachment</th>\n",
              "      <th>gill-spacing</th>\n",
              "      <th>gill-size</th>\n",
              "      <th>gill-color</th>\n",
              "      <th>stalk-shape</th>\n",
              "      <th>stalk-root</th>\n",
              "      <th>stalk-surface-above-ring</th>\n",
              "      <th>stalk-surface-below-ring</th>\n",
              "      <th>stalk-color-above-ring</th>\n",
              "      <th>stalk-color-below-ring</th>\n",
              "      <th>veil-type</th>\n",
              "      <th>veil-color</th>\n",
              "      <th>ring-number</th>\n",
              "      <th>ring-type</th>\n",
              "      <th>spore-print-color</th>\n",
              "      <th>population</th>\n",
              "      <th>habitat</th>\n",
              "    </tr>\n",
              "  </thead>\n",
              "  <tbody>\n",
              "    <tr>\n",
              "      <th>0</th>\n",
              "      <td>p</td>\n",
              "      <td>x</td>\n",
              "      <td>s</td>\n",
              "      <td>n</td>\n",
              "      <td>t</td>\n",
              "      <td>p</td>\n",
              "      <td>f</td>\n",
              "      <td>c</td>\n",
              "      <td>n</td>\n",
              "      <td>k</td>\n",
              "      <td>e</td>\n",
              "      <td>e</td>\n",
              "      <td>s</td>\n",
              "      <td>s</td>\n",
              "      <td>w</td>\n",
              "      <td>w</td>\n",
              "      <td>p</td>\n",
              "      <td>w</td>\n",
              "      <td>o</td>\n",
              "      <td>p</td>\n",
              "      <td>k</td>\n",
              "      <td>s</td>\n",
              "      <td>u</td>\n",
              "    </tr>\n",
              "    <tr>\n",
              "      <th>1</th>\n",
              "      <td>e</td>\n",
              "      <td>x</td>\n",
              "      <td>s</td>\n",
              "      <td>y</td>\n",
              "      <td>t</td>\n",
              "      <td>a</td>\n",
              "      <td>f</td>\n",
              "      <td>c</td>\n",
              "      <td>b</td>\n",
              "      <td>k</td>\n",
              "      <td>e</td>\n",
              "      <td>c</td>\n",
              "      <td>s</td>\n",
              "      <td>s</td>\n",
              "      <td>w</td>\n",
              "      <td>w</td>\n",
              "      <td>p</td>\n",
              "      <td>w</td>\n",
              "      <td>o</td>\n",
              "      <td>p</td>\n",
              "      <td>n</td>\n",
              "      <td>n</td>\n",
              "      <td>g</td>\n",
              "    </tr>\n",
              "    <tr>\n",
              "      <th>2</th>\n",
              "      <td>e</td>\n",
              "      <td>b</td>\n",
              "      <td>s</td>\n",
              "      <td>w</td>\n",
              "      <td>t</td>\n",
              "      <td>l</td>\n",
              "      <td>f</td>\n",
              "      <td>c</td>\n",
              "      <td>b</td>\n",
              "      <td>n</td>\n",
              "      <td>e</td>\n",
              "      <td>c</td>\n",
              "      <td>s</td>\n",
              "      <td>s</td>\n",
              "      <td>w</td>\n",
              "      <td>w</td>\n",
              "      <td>p</td>\n",
              "      <td>w</td>\n",
              "      <td>o</td>\n",
              "      <td>p</td>\n",
              "      <td>n</td>\n",
              "      <td>n</td>\n",
              "      <td>m</td>\n",
              "    </tr>\n",
              "    <tr>\n",
              "      <th>3</th>\n",
              "      <td>p</td>\n",
              "      <td>x</td>\n",
              "      <td>y</td>\n",
              "      <td>w</td>\n",
              "      <td>t</td>\n",
              "      <td>p</td>\n",
              "      <td>f</td>\n",
              "      <td>c</td>\n",
              "      <td>n</td>\n",
              "      <td>n</td>\n",
              "      <td>e</td>\n",
              "      <td>e</td>\n",
              "      <td>s</td>\n",
              "      <td>s</td>\n",
              "      <td>w</td>\n",
              "      <td>w</td>\n",
              "      <td>p</td>\n",
              "      <td>w</td>\n",
              "      <td>o</td>\n",
              "      <td>p</td>\n",
              "      <td>k</td>\n",
              "      <td>s</td>\n",
              "      <td>u</td>\n",
              "    </tr>\n",
              "    <tr>\n",
              "      <th>4</th>\n",
              "      <td>e</td>\n",
              "      <td>x</td>\n",
              "      <td>s</td>\n",
              "      <td>g</td>\n",
              "      <td>f</td>\n",
              "      <td>n</td>\n",
              "      <td>f</td>\n",
              "      <td>w</td>\n",
              "      <td>b</td>\n",
              "      <td>k</td>\n",
              "      <td>t</td>\n",
              "      <td>e</td>\n",
              "      <td>s</td>\n",
              "      <td>s</td>\n",
              "      <td>w</td>\n",
              "      <td>w</td>\n",
              "      <td>p</td>\n",
              "      <td>w</td>\n",
              "      <td>o</td>\n",
              "      <td>e</td>\n",
              "      <td>n</td>\n",
              "      <td>a</td>\n",
              "      <td>g</td>\n",
              "    </tr>\n",
              "  </tbody>\n",
              "</table>\n",
              "</div>"
            ],
            "text/plain": [
              "  class cap-shape cap-surface  ... spore-print-color population habitat\n",
              "0     p         x           s  ...                 k          s       u\n",
              "1     e         x           s  ...                 n          n       g\n",
              "2     e         b           s  ...                 n          n       m\n",
              "3     p         x           y  ...                 k          s       u\n",
              "4     e         x           s  ...                 n          a       g\n",
              "\n",
              "[5 rows x 23 columns]"
            ]
          },
          "metadata": {
            "tags": []
          },
          "execution_count": 4
        }
      ]
    },
    {
      "cell_type": "code",
      "metadata": {
        "colab": {
          "base_uri": "https://localhost:8080/"
        },
        "id": "hJcugHzoYkdv",
        "outputId": "558b752b-4394-41cd-b7b4-5c296ee5d01c"
      },
      "source": [
        "data.shape"
      ],
      "execution_count": 5,
      "outputs": [
        {
          "output_type": "execute_result",
          "data": {
            "text/plain": [
              "(8124, 23)"
            ]
          },
          "metadata": {
            "tags": []
          },
          "execution_count": 5
        }
      ]
    },
    {
      "cell_type": "code",
      "metadata": {
        "colab": {
          "base_uri": "https://localhost:8080/"
        },
        "id": "LgmEHx4KYael",
        "outputId": "8b4b71d7-0314-4214-8be9-607e53c38200"
      },
      "source": [
        "\n",
        "from sklearn.preprocessing import LabelEncoder\n",
        "def label_encoded(features): # Go through features and convert them to numerical values, rather than letters. Use in loop\n",
        "    le = LabelEncoder()\n",
        "    le.fit(features)\n",
        "    print(features.name,le.classes_)\n",
        "    return le.transform(features)\n",
        "\n",
        "for col in data.columns:\n",
        "    data[str(col)] = label_encoded(data[str(col)])"
      ],
      "execution_count": 6,
      "outputs": [
        {
          "output_type": "stream",
          "text": [
            "class ['e' 'p']\n",
            "cap-shape ['b' 'c' 'f' 'k' 's' 'x']\n",
            "cap-surface ['f' 'g' 's' 'y']\n",
            "cap-color ['b' 'c' 'e' 'g' 'n' 'p' 'r' 'u' 'w' 'y']\n",
            "bruises ['f' 't']\n",
            "odor ['a' 'c' 'f' 'l' 'm' 'n' 'p' 's' 'y']\n",
            "gill-attachment ['a' 'f']\n",
            "gill-spacing ['c' 'w']\n",
            "gill-size ['b' 'n']\n",
            "gill-color ['b' 'e' 'g' 'h' 'k' 'n' 'o' 'p' 'r' 'u' 'w' 'y']\n",
            "stalk-shape ['e' 't']\n",
            "stalk-root ['?' 'b' 'c' 'e' 'r']\n",
            "stalk-surface-above-ring ['f' 'k' 's' 'y']\n",
            "stalk-surface-below-ring ['f' 'k' 's' 'y']\n",
            "stalk-color-above-ring ['b' 'c' 'e' 'g' 'n' 'o' 'p' 'w' 'y']\n",
            "stalk-color-below-ring ['b' 'c' 'e' 'g' 'n' 'o' 'p' 'w' 'y']\n",
            "veil-type ['p']\n",
            "veil-color ['n' 'o' 'w' 'y']\n",
            "ring-number ['n' 'o' 't']\n",
            "ring-type ['e' 'f' 'l' 'n' 'p']\n",
            "spore-print-color ['b' 'h' 'k' 'n' 'o' 'r' 'u' 'w' 'y']\n",
            "population ['a' 'c' 'n' 's' 'v' 'y']\n",
            "habitat ['d' 'g' 'l' 'm' 'p' 'u' 'w']\n"
          ],
          "name": "stdout"
        }
      ]
    },
    {
      "cell_type": "code",
      "metadata": {
        "colab": {
          "base_uri": "https://localhost:8080/",
          "height": 275
        },
        "id": "WHmxe_EBXuGY",
        "outputId": "4118d484-0e3a-4d64-a392-3acab329a444"
      },
      "source": [
        "data.head()"
      ],
      "execution_count": 7,
      "outputs": [
        {
          "output_type": "execute_result",
          "data": {
            "text/html": [
              "<div>\n",
              "<style scoped>\n",
              "    .dataframe tbody tr th:only-of-type {\n",
              "        vertical-align: middle;\n",
              "    }\n",
              "\n",
              "    .dataframe tbody tr th {\n",
              "        vertical-align: top;\n",
              "    }\n",
              "\n",
              "    .dataframe thead th {\n",
              "        text-align: right;\n",
              "    }\n",
              "</style>\n",
              "<table border=\"1\" class=\"dataframe\">\n",
              "  <thead>\n",
              "    <tr style=\"text-align: right;\">\n",
              "      <th></th>\n",
              "      <th>class</th>\n",
              "      <th>cap-shape</th>\n",
              "      <th>cap-surface</th>\n",
              "      <th>cap-color</th>\n",
              "      <th>bruises</th>\n",
              "      <th>odor</th>\n",
              "      <th>gill-attachment</th>\n",
              "      <th>gill-spacing</th>\n",
              "      <th>gill-size</th>\n",
              "      <th>gill-color</th>\n",
              "      <th>stalk-shape</th>\n",
              "      <th>stalk-root</th>\n",
              "      <th>stalk-surface-above-ring</th>\n",
              "      <th>stalk-surface-below-ring</th>\n",
              "      <th>stalk-color-above-ring</th>\n",
              "      <th>stalk-color-below-ring</th>\n",
              "      <th>veil-type</th>\n",
              "      <th>veil-color</th>\n",
              "      <th>ring-number</th>\n",
              "      <th>ring-type</th>\n",
              "      <th>spore-print-color</th>\n",
              "      <th>population</th>\n",
              "      <th>habitat</th>\n",
              "    </tr>\n",
              "  </thead>\n",
              "  <tbody>\n",
              "    <tr>\n",
              "      <th>0</th>\n",
              "      <td>1</td>\n",
              "      <td>5</td>\n",
              "      <td>2</td>\n",
              "      <td>4</td>\n",
              "      <td>1</td>\n",
              "      <td>6</td>\n",
              "      <td>1</td>\n",
              "      <td>0</td>\n",
              "      <td>1</td>\n",
              "      <td>4</td>\n",
              "      <td>0</td>\n",
              "      <td>3</td>\n",
              "      <td>2</td>\n",
              "      <td>2</td>\n",
              "      <td>7</td>\n",
              "      <td>7</td>\n",
              "      <td>0</td>\n",
              "      <td>2</td>\n",
              "      <td>1</td>\n",
              "      <td>4</td>\n",
              "      <td>2</td>\n",
              "      <td>3</td>\n",
              "      <td>5</td>\n",
              "    </tr>\n",
              "    <tr>\n",
              "      <th>1</th>\n",
              "      <td>0</td>\n",
              "      <td>5</td>\n",
              "      <td>2</td>\n",
              "      <td>9</td>\n",
              "      <td>1</td>\n",
              "      <td>0</td>\n",
              "      <td>1</td>\n",
              "      <td>0</td>\n",
              "      <td>0</td>\n",
              "      <td>4</td>\n",
              "      <td>0</td>\n",
              "      <td>2</td>\n",
              "      <td>2</td>\n",
              "      <td>2</td>\n",
              "      <td>7</td>\n",
              "      <td>7</td>\n",
              "      <td>0</td>\n",
              "      <td>2</td>\n",
              "      <td>1</td>\n",
              "      <td>4</td>\n",
              "      <td>3</td>\n",
              "      <td>2</td>\n",
              "      <td>1</td>\n",
              "    </tr>\n",
              "    <tr>\n",
              "      <th>2</th>\n",
              "      <td>0</td>\n",
              "      <td>0</td>\n",
              "      <td>2</td>\n",
              "      <td>8</td>\n",
              "      <td>1</td>\n",
              "      <td>3</td>\n",
              "      <td>1</td>\n",
              "      <td>0</td>\n",
              "      <td>0</td>\n",
              "      <td>5</td>\n",
              "      <td>0</td>\n",
              "      <td>2</td>\n",
              "      <td>2</td>\n",
              "      <td>2</td>\n",
              "      <td>7</td>\n",
              "      <td>7</td>\n",
              "      <td>0</td>\n",
              "      <td>2</td>\n",
              "      <td>1</td>\n",
              "      <td>4</td>\n",
              "      <td>3</td>\n",
              "      <td>2</td>\n",
              "      <td>3</td>\n",
              "    </tr>\n",
              "    <tr>\n",
              "      <th>3</th>\n",
              "      <td>1</td>\n",
              "      <td>5</td>\n",
              "      <td>3</td>\n",
              "      <td>8</td>\n",
              "      <td>1</td>\n",
              "      <td>6</td>\n",
              "      <td>1</td>\n",
              "      <td>0</td>\n",
              "      <td>1</td>\n",
              "      <td>5</td>\n",
              "      <td>0</td>\n",
              "      <td>3</td>\n",
              "      <td>2</td>\n",
              "      <td>2</td>\n",
              "      <td>7</td>\n",
              "      <td>7</td>\n",
              "      <td>0</td>\n",
              "      <td>2</td>\n",
              "      <td>1</td>\n",
              "      <td>4</td>\n",
              "      <td>2</td>\n",
              "      <td>3</td>\n",
              "      <td>5</td>\n",
              "    </tr>\n",
              "    <tr>\n",
              "      <th>4</th>\n",
              "      <td>0</td>\n",
              "      <td>5</td>\n",
              "      <td>2</td>\n",
              "      <td>3</td>\n",
              "      <td>0</td>\n",
              "      <td>5</td>\n",
              "      <td>1</td>\n",
              "      <td>1</td>\n",
              "      <td>0</td>\n",
              "      <td>4</td>\n",
              "      <td>1</td>\n",
              "      <td>3</td>\n",
              "      <td>2</td>\n",
              "      <td>2</td>\n",
              "      <td>7</td>\n",
              "      <td>7</td>\n",
              "      <td>0</td>\n",
              "      <td>2</td>\n",
              "      <td>1</td>\n",
              "      <td>0</td>\n",
              "      <td>3</td>\n",
              "      <td>0</td>\n",
              "      <td>1</td>\n",
              "    </tr>\n",
              "  </tbody>\n",
              "</table>\n",
              "</div>"
            ],
            "text/plain": [
              "   class  cap-shape  cap-surface  ...  spore-print-color  population  habitat\n",
              "0      1          5            2  ...                  2           3        5\n",
              "1      0          5            2  ...                  3           2        1\n",
              "2      0          0            2  ...                  3           2        3\n",
              "3      1          5            3  ...                  2           3        5\n",
              "4      0          5            2  ...                  3           0        1\n",
              "\n",
              "[5 rows x 23 columns]"
            ]
          },
          "metadata": {
            "tags": []
          },
          "execution_count": 7
        }
      ]
    },
    {
      "cell_type": "code",
      "metadata": {
        "id": "e67GHLgUoIOe"
      },
      "source": [
        "X = data.iloc[:,1:].values\n",
        "y = data.iloc[:,0].values"
      ],
      "execution_count": 8,
      "outputs": []
    },
    {
      "cell_type": "code",
      "metadata": {
        "id": "UV6bFB40Yu67"
      },
      "source": [
        "from sklearn.model_selection import train_test_split\n",
        "X_train, X_test, y_train, y_test = train_test_split(\n",
        "     X, y, test_size=0.30)"
      ],
      "execution_count": 9,
      "outputs": []
    },
    {
      "cell_type": "code",
      "metadata": {
        "colab": {
          "base_uri": "https://localhost:8080/"
        },
        "id": "HKdxkStOYw4O",
        "outputId": "b5be9cbc-ab49-4bb6-9fdd-bfa8b2bdde7d"
      },
      "source": [
        "print(\"X_train shape:\", X_train.shape)\n",
        "print(\"X_test shape:\", X_test.shape)\n",
        "print(\"y_train shape:\", y_train.shape)\n",
        "print(\"y_test shape\", y_test.shape)\n"
      ],
      "execution_count": 10,
      "outputs": [
        {
          "output_type": "stream",
          "text": [
            "X_train shape: (5686, 22)\n",
            "X_test shape: (2438, 22)\n",
            "y_train shape: (5686,)\n",
            "y_test shape (2438,)\n"
          ],
          "name": "stdout"
        }
      ]
    },
    {
      "cell_type": "code",
      "metadata": {
        "id": "kc38Wyo0YzlA"
      },
      "source": [
        "# Make tree, going to do a gridsearch and try to find best hyperparameters that way\n",
        "from sklearn.tree import DecisionTreeClassifier\n",
        "from sklearn import tree\n",
        "from sklearn.model_selection import GridSearchCV\n",
        "params = {'max_leaf_nodes': list(range(2, 100)), \n",
        "          'min_samples_split': [2, 3, 4],\n",
        "          'max_depth': list(range(1,15))\n",
        "         }\n",
        "grid_search = GridSearchCV(DecisionTreeClassifier(), params, verbose=1)"
      ],
      "execution_count": 11,
      "outputs": []
    },
    {
      "cell_type": "code",
      "metadata": {
        "colab": {
          "base_uri": "https://localhost:8080/"
        },
        "id": "Nk-UbNX-Y1zu",
        "outputId": "7e717381-a8ba-4d06-dc1c-626aab6edf52"
      },
      "source": [
        "grid_search.fit(X_train, y_train)"
      ],
      "execution_count": 12,
      "outputs": [
        {
          "output_type": "stream",
          "text": [
            "Fitting 5 folds for each of 4116 candidates, totalling 20580 fits\n"
          ],
          "name": "stdout"
        },
        {
          "output_type": "stream",
          "text": [
            "[Parallel(n_jobs=1)]: Using backend SequentialBackend with 1 concurrent workers.\n",
            "[Parallel(n_jobs=1)]: Done 20580 out of 20580 | elapsed:  2.4min finished\n"
          ],
          "name": "stderr"
        },
        {
          "output_type": "execute_result",
          "data": {
            "text/plain": [
              "GridSearchCV(cv=None, error_score=nan,\n",
              "             estimator=DecisionTreeClassifier(ccp_alpha=0.0, class_weight=None,\n",
              "                                              criterion='gini', max_depth=None,\n",
              "                                              max_features=None,\n",
              "                                              max_leaf_nodes=None,\n",
              "                                              min_impurity_decrease=0.0,\n",
              "                                              min_impurity_split=None,\n",
              "                                              min_samples_leaf=1,\n",
              "                                              min_samples_split=2,\n",
              "                                              min_weight_fraction_leaf=0.0,\n",
              "                                              presort='deprecated',\n",
              "                                              random_state=None,\n",
              "                                              splitter='best'),\n",
              "             iid='deprecated', n_jobs=None,\n",
              "             param_grid={'max_depth': [1, 2, 3, 4, 5, 6, 7, 8, 9, 10, 11, 12,\n",
              "                                       13, 14],\n",
              "                         'max_leaf_nodes': [2, 3, 4, 5, 6, 7, 8, 9, 10, 11, 12,\n",
              "                                            13, 14, 15, 16, 17, 18, 19, 20, 21,\n",
              "                                            22, 23, 24, 25, 26, 27, 28, 29, 30,\n",
              "                                            31, ...],\n",
              "                         'min_samples_split': [2, 3, 4]},\n",
              "             pre_dispatch='2*n_jobs', refit=True, return_train_score=False,\n",
              "             scoring=None, verbose=1)"
            ]
          },
          "metadata": {
            "tags": []
          },
          "execution_count": 12
        }
      ]
    },
    {
      "cell_type": "code",
      "metadata": {
        "colab": {
          "base_uri": "https://localhost:8080/"
        },
        "id": "5ljzcHdKZRRK",
        "outputId": "820aa5ce-f8e1-4b16-d964-76cfbb6f4f8c"
      },
      "source": [
        "grid_search.best_estimator_"
      ],
      "execution_count": 13,
      "outputs": [
        {
          "output_type": "execute_result",
          "data": {
            "text/plain": [
              "DecisionTreeClassifier(ccp_alpha=0.0, class_weight=None, criterion='gini',\n",
              "                       max_depth=7, max_features=None, max_leaf_nodes=20,\n",
              "                       min_impurity_decrease=0.0, min_impurity_split=None,\n",
              "                       min_samples_leaf=1, min_samples_split=2,\n",
              "                       min_weight_fraction_leaf=0.0, presort='deprecated',\n",
              "                       random_state=None, splitter='best')"
            ]
          },
          "metadata": {
            "tags": []
          },
          "execution_count": 13
        }
      ]
    },
    {
      "cell_type": "code",
      "metadata": {
        "id": "NZNxWYxLZSv5"
      },
      "source": [
        "grid_tree = grid_search.best_estimator_"
      ],
      "execution_count": 14,
      "outputs": []
    },
    {
      "cell_type": "code",
      "metadata": {
        "colab": {
          "base_uri": "https://localhost:8080/"
        },
        "id": "bj-rVd0tZTn8",
        "outputId": "a2c3ca3e-fb7d-4c0e-c6f7-a2e048d52ebb"
      },
      "source": [
        "pip install graphviz"
      ],
      "execution_count": 15,
      "outputs": [
        {
          "output_type": "stream",
          "text": [
            "Requirement already satisfied: graphviz in /usr/local/lib/python3.7/dist-packages (0.10.1)\n"
          ],
          "name": "stdout"
        }
      ]
    },
    {
      "cell_type": "code",
      "metadata": {
        "id": "8sJ-e6-EZVKx"
      },
      "source": [
        "class_names = grid_tree.classes_"
      ],
      "execution_count": 16,
      "outputs": []
    },
    {
      "cell_type": "code",
      "metadata": {
        "colab": {
          "base_uri": "https://localhost:8080/",
          "height": 1000
        },
        "id": "aSjM528uZgMo",
        "outputId": "7e03d60f-69b0-48a7-e3c3-c6bd9b5ee323"
      },
      "source": [
        "import graphviz\n",
        "dot_data = tree.export_graphviz(grid_tree, out_file=None, class_names = ('Poisonous','Edible'), filled=True)\n",
        "#dot_data = tree.export_graphviz(grid_tree, out_file=None, class_names = True, filled=True)\n",
        "\n",
        "\n",
        "# Draw graph\n",
        "graph = graphviz.Source(dot_data, format=\"png\") \n",
        "graph"
      ],
      "execution_count": 17,
      "outputs": [
        {
          "output_type": "execute_result",
          "data": {
            "text/plain": [
              "<graphviz.files.Source at 0x7fea44807310>"
            ],
            "image/svg+xml": "<?xml version=\"1.0\" encoding=\"UTF-8\" standalone=\"no\"?>\n<!DOCTYPE svg PUBLIC \"-//W3C//DTD SVG 1.1//EN\"\n \"http://www.w3.org/Graphics/SVG/1.1/DTD/svg11.dtd\">\n<!-- Generated by graphviz version 2.40.1 (20161225.0304)\n -->\n<!-- Title: Tree Pages: 1 -->\n<svg width=\"1280pt\" height=\"909pt\"\n viewBox=\"0.00 0.00 1280.00 909.00\" xmlns=\"http://www.w3.org/2000/svg\" xmlns:xlink=\"http://www.w3.org/1999/xlink\">\n<g id=\"graph0\" class=\"graph\" transform=\"scale(1 1) rotate(0) translate(4 905)\">\n<title>Tree</title>\n<polygon fill=\"#ffffff\" stroke=\"transparent\" points=\"-4,4 -4,-905 1276,-905 1276,4 -4,4\"/>\n<!-- 0 -->\n<g id=\"node1\" class=\"node\">\n<title>0</title>\n<polygon fill=\"#fdf6f1\" stroke=\"#000000\" points=\"583,-901 443,-901 443,-818 583,-818 583,-901\"/>\n<text text-anchor=\"middle\" x=\"513\" y=\"-885.8\" font-family=\"Times,serif\" font-size=\"14.00\" fill=\"#000000\">X[8] &lt;= 3.5</text>\n<text text-anchor=\"middle\" x=\"513\" y=\"-870.8\" font-family=\"Times,serif\" font-size=\"14.00\" fill=\"#000000\">gini = 0.499</text>\n<text text-anchor=\"middle\" x=\"513\" y=\"-855.8\" font-family=\"Times,serif\" font-size=\"14.00\" fill=\"#000000\">samples = 5686</text>\n<text text-anchor=\"middle\" x=\"513\" y=\"-840.8\" font-family=\"Times,serif\" font-size=\"14.00\" fill=\"#000000\">value = [2951, 2735]</text>\n<text text-anchor=\"middle\" x=\"513\" y=\"-825.8\" font-family=\"Times,serif\" font-size=\"14.00\" fill=\"#000000\">class = Poisonous</text>\n</g>\n<!-- 1 -->\n<g id=\"node2\" class=\"node\">\n<title>1</title>\n<polygon fill=\"#60b0ea\" stroke=\"#000000\" points=\"445,-782 313,-782 313,-699 445,-699 445,-782\"/>\n<text text-anchor=\"middle\" x=\"379\" y=\"-766.8\" font-family=\"Times,serif\" font-size=\"14.00\" fill=\"#000000\">X[20] &lt;= 3.5</text>\n<text text-anchor=\"middle\" x=\"379\" y=\"-751.8\" font-family=\"Times,serif\" font-size=\"14.00\" fill=\"#000000\">gini = 0.277</text>\n<text text-anchor=\"middle\" x=\"379\" y=\"-736.8\" font-family=\"Times,serif\" font-size=\"14.00\" fill=\"#000000\">samples = 2315</text>\n<text text-anchor=\"middle\" x=\"379\" y=\"-721.8\" font-family=\"Times,serif\" font-size=\"14.00\" fill=\"#000000\">value = [384, 1931]</text>\n<text text-anchor=\"middle\" x=\"379\" y=\"-706.8\" font-family=\"Times,serif\" font-size=\"14.00\" fill=\"#000000\">class = Edible</text>\n</g>\n<!-- 0&#45;&gt;1 -->\n<g id=\"edge1\" class=\"edge\">\n<title>0&#45;&gt;1</title>\n<path fill=\"none\" stroke=\"#000000\" d=\"M466.1333,-817.8796C455.6875,-808.6031 444.5219,-798.6874 433.789,-789.1559\"/>\n<polygon fill=\"#000000\" stroke=\"#000000\" points=\"435.868,-786.3213 426.0667,-782.2981 431.2199,-791.5553 435.868,-786.3213\"/>\n<text text-anchor=\"middle\" x=\"427.5464\" y=\"-803.5542\" font-family=\"Times,serif\" font-size=\"14.00\" fill=\"#000000\">True</text>\n</g>\n<!-- 2 -->\n<g id=\"node15\" class=\"node\">\n<title>2</title>\n<polygon fill=\"#eda877\" stroke=\"#000000\" points=\"718,-782 586,-782 586,-699 718,-699 718,-782\"/>\n<text text-anchor=\"middle\" x=\"652\" y=\"-766.8\" font-family=\"Times,serif\" font-size=\"14.00\" fill=\"#000000\">X[19] &lt;= 1.5</text>\n<text text-anchor=\"middle\" x=\"652\" y=\"-751.8\" font-family=\"Times,serif\" font-size=\"14.00\" fill=\"#000000\">gini = 0.363</text>\n<text text-anchor=\"middle\" x=\"652\" y=\"-736.8\" font-family=\"Times,serif\" font-size=\"14.00\" fill=\"#000000\">samples = 3371</text>\n<text text-anchor=\"middle\" x=\"652\" y=\"-721.8\" font-family=\"Times,serif\" font-size=\"14.00\" fill=\"#000000\">value = [2567, 804]</text>\n<text text-anchor=\"middle\" x=\"652\" y=\"-706.8\" font-family=\"Times,serif\" font-size=\"14.00\" fill=\"#000000\">class = Poisonous</text>\n</g>\n<!-- 0&#45;&gt;2 -->\n<g id=\"edge14\" class=\"edge\">\n<title>0&#45;&gt;2</title>\n<path fill=\"none\" stroke=\"#000000\" d=\"M561.6155,-817.8796C572.5562,-808.513 584.2582,-798.4948 595.4908,-788.8784\"/>\n<polygon fill=\"#000000\" stroke=\"#000000\" points=\"597.8568,-791.4603 603.177,-782.2981 593.3044,-786.1428 597.8568,-791.4603\"/>\n<text text-anchor=\"middle\" x=\"601.2449\" y=\"-803.5233\" font-family=\"Times,serif\" font-size=\"14.00\" fill=\"#000000\">False</text>\n</g>\n<!-- 3 -->\n<g id=\"node3\" class=\"node\">\n<title>3</title>\n<polygon fill=\"#e99355\" stroke=\"#000000\" points=\"239.5,-663 120.5,-663 120.5,-580 239.5,-580 239.5,-663\"/>\n<text text-anchor=\"middle\" x=\"180\" y=\"-647.8\" font-family=\"Times,serif\" font-size=\"14.00\" fill=\"#000000\">X[19] &lt;= 1.5</text>\n<text text-anchor=\"middle\" x=\"180\" y=\"-632.8\" font-family=\"Times,serif\" font-size=\"14.00\" fill=\"#000000\">gini = 0.218</text>\n<text text-anchor=\"middle\" x=\"180\" y=\"-617.8\" font-family=\"Times,serif\" font-size=\"14.00\" fill=\"#000000\">samples = 417</text>\n<text text-anchor=\"middle\" x=\"180\" y=\"-602.8\" font-family=\"Times,serif\" font-size=\"14.00\" fill=\"#000000\">value = [365, 52]</text>\n<text text-anchor=\"middle\" x=\"180\" y=\"-587.8\" font-family=\"Times,serif\" font-size=\"14.00\" fill=\"#000000\">class = Poisonous</text>\n</g>\n<!-- 1&#45;&gt;3 -->\n<g id=\"edge2\" class=\"edge\">\n<title>1&#45;&gt;3</title>\n<path fill=\"none\" stroke=\"#000000\" d=\"M312.7359,-700.8747C292.0591,-688.5102 269.219,-674.8521 248.3988,-662.4018\"/>\n<polygon fill=\"#000000\" stroke=\"#000000\" points=\"249.9906,-659.2757 239.6118,-657.1472 246.398,-665.2834 249.9906,-659.2757\"/>\n</g>\n<!-- 4 -->\n<g id=\"node8\" class=\"node\">\n<title>4</title>\n<polygon fill=\"#3b9ee5\" stroke=\"#000000\" points=\"441.5,-663 316.5,-663 316.5,-580 441.5,-580 441.5,-663\"/>\n<text text-anchor=\"middle\" x=\"379\" y=\"-647.8\" font-family=\"Times,serif\" font-size=\"14.00\" fill=\"#000000\">X[10] &lt;= 2.0</text>\n<text text-anchor=\"middle\" x=\"379\" y=\"-632.8\" font-family=\"Times,serif\" font-size=\"14.00\" fill=\"#000000\">gini = 0.02</text>\n<text text-anchor=\"middle\" x=\"379\" y=\"-617.8\" font-family=\"Times,serif\" font-size=\"14.00\" fill=\"#000000\">samples = 1898</text>\n<text text-anchor=\"middle\" x=\"379\" y=\"-602.8\" font-family=\"Times,serif\" font-size=\"14.00\" fill=\"#000000\">value = [19, 1879]</text>\n<text text-anchor=\"middle\" x=\"379\" y=\"-587.8\" font-family=\"Times,serif\" font-size=\"14.00\" fill=\"#000000\">class = Edible</text>\n</g>\n<!-- 1&#45;&gt;4 -->\n<g id=\"edge7\" class=\"edge\">\n<title>1&#45;&gt;4</title>\n<path fill=\"none\" stroke=\"#000000\" d=\"M379,-698.8796C379,-690.6838 379,-681.9891 379,-673.5013\"/>\n<polygon fill=\"#000000\" stroke=\"#000000\" points=\"382.5001,-673.298 379,-663.2981 375.5001,-673.2981 382.5001,-673.298\"/>\n</g>\n<!-- 15 -->\n<g id=\"node4\" class=\"node\">\n<title>15</title>\n<polygon fill=\"#399de5\" stroke=\"#000000\" points=\"102,-536.5 0,-536.5 0,-468.5 102,-468.5 102,-536.5\"/>\n<text text-anchor=\"middle\" x=\"51\" y=\"-521.3\" font-family=\"Times,serif\" font-size=\"14.00\" fill=\"#000000\">gini = 0.0</text>\n<text text-anchor=\"middle\" x=\"51\" y=\"-506.3\" font-family=\"Times,serif\" font-size=\"14.00\" fill=\"#000000\">samples = 33</text>\n<text text-anchor=\"middle\" x=\"51\" y=\"-491.3\" font-family=\"Times,serif\" font-size=\"14.00\" fill=\"#000000\">value = [0, 33]</text>\n<text text-anchor=\"middle\" x=\"51\" y=\"-476.3\" font-family=\"Times,serif\" font-size=\"14.00\" fill=\"#000000\">class = Edible</text>\n</g>\n<!-- 3&#45;&gt;15 -->\n<g id=\"edge3\" class=\"edge\">\n<title>3&#45;&gt;15</title>\n<path fill=\"none\" stroke=\"#000000\" d=\"M134.8821,-579.8796C122.2467,-568.2237 108.5174,-555.5587 95.895,-543.9148\"/>\n<polygon fill=\"#000000\" stroke=\"#000000\" points=\"97.922,-541.0228 88.1985,-536.8149 93.1756,-546.168 97.922,-541.0228\"/>\n</g>\n<!-- 16 -->\n<g id=\"node5\" class=\"node\">\n<title>16</title>\n<polygon fill=\"#e68843\" stroke=\"#000000\" points=\"239.5,-544 120.5,-544 120.5,-461 239.5,-461 239.5,-544\"/>\n<text text-anchor=\"middle\" x=\"180\" y=\"-528.8\" font-family=\"Times,serif\" font-size=\"14.00\" fill=\"#000000\">X[21] &lt;= 0.5</text>\n<text text-anchor=\"middle\" x=\"180\" y=\"-513.8\" font-family=\"Times,serif\" font-size=\"14.00\" fill=\"#000000\">gini = 0.094</text>\n<text text-anchor=\"middle\" x=\"180\" y=\"-498.8\" font-family=\"Times,serif\" font-size=\"14.00\" fill=\"#000000\">samples = 384</text>\n<text text-anchor=\"middle\" x=\"180\" y=\"-483.8\" font-family=\"Times,serif\" font-size=\"14.00\" fill=\"#000000\">value = [365, 19]</text>\n<text text-anchor=\"middle\" x=\"180\" y=\"-468.8\" font-family=\"Times,serif\" font-size=\"14.00\" fill=\"#000000\">class = Poisonous</text>\n</g>\n<!-- 3&#45;&gt;16 -->\n<g id=\"edge4\" class=\"edge\">\n<title>3&#45;&gt;16</title>\n<path fill=\"none\" stroke=\"#000000\" d=\"M180,-579.8796C180,-571.6838 180,-562.9891 180,-554.5013\"/>\n<polygon fill=\"#000000\" stroke=\"#000000\" points=\"183.5001,-554.298 180,-544.2981 176.5001,-554.2981 183.5001,-554.298\"/>\n</g>\n<!-- 21 -->\n<g id=\"node6\" class=\"node\">\n<title>21</title>\n<polygon fill=\"#399de5\" stroke=\"#000000\" points=\"104,-417.5 2,-417.5 2,-349.5 104,-349.5 104,-417.5\"/>\n<text text-anchor=\"middle\" x=\"53\" y=\"-402.3\" font-family=\"Times,serif\" font-size=\"14.00\" fill=\"#000000\">gini = 0.0</text>\n<text text-anchor=\"middle\" x=\"53\" y=\"-387.3\" font-family=\"Times,serif\" font-size=\"14.00\" fill=\"#000000\">samples = 19</text>\n<text text-anchor=\"middle\" x=\"53\" y=\"-372.3\" font-family=\"Times,serif\" font-size=\"14.00\" fill=\"#000000\">value = [0, 19]</text>\n<text text-anchor=\"middle\" x=\"53\" y=\"-357.3\" font-family=\"Times,serif\" font-size=\"14.00\" fill=\"#000000\">class = Edible</text>\n</g>\n<!-- 16&#45;&gt;21 -->\n<g id=\"edge5\" class=\"edge\">\n<title>16&#45;&gt;21</title>\n<path fill=\"none\" stroke=\"#000000\" d=\"M135.5816,-460.8796C123.1421,-449.2237 109.6257,-436.5587 97.199,-424.9148\"/>\n<polygon fill=\"#000000\" stroke=\"#000000\" points=\"99.3121,-422.0985 89.6218,-417.8149 94.5259,-427.2065 99.3121,-422.0985\"/>\n</g>\n<!-- 22 -->\n<g id=\"node7\" class=\"node\">\n<title>22</title>\n<polygon fill=\"#e58139\" stroke=\"#000000\" points=\"241.5,-417.5 122.5,-417.5 122.5,-349.5 241.5,-349.5 241.5,-417.5\"/>\n<text text-anchor=\"middle\" x=\"182\" y=\"-402.3\" font-family=\"Times,serif\" font-size=\"14.00\" fill=\"#000000\">gini = 0.0</text>\n<text text-anchor=\"middle\" x=\"182\" y=\"-387.3\" font-family=\"Times,serif\" font-size=\"14.00\" fill=\"#000000\">samples = 365</text>\n<text text-anchor=\"middle\" x=\"182\" y=\"-372.3\" font-family=\"Times,serif\" font-size=\"14.00\" fill=\"#000000\">value = [365, 0]</text>\n<text text-anchor=\"middle\" x=\"182\" y=\"-357.3\" font-family=\"Times,serif\" font-size=\"14.00\" fill=\"#000000\">class = Poisonous</text>\n</g>\n<!-- 16&#45;&gt;22 -->\n<g id=\"edge6\" class=\"edge\">\n<title>16&#45;&gt;22</title>\n<path fill=\"none\" stroke=\"#000000\" d=\"M180.6995,-460.8796C180.8788,-450.2134 181.0722,-438.7021 181.2538,-427.9015\"/>\n<polygon fill=\"#000000\" stroke=\"#000000\" points=\"184.7546,-427.8724 181.4233,-417.8149 177.7556,-427.7547 184.7546,-427.8724\"/>\n</g>\n<!-- 23 -->\n<g id=\"node9\" class=\"node\">\n<title>23</title>\n<polygon fill=\"#3a9de5\" stroke=\"#000000\" points=\"374.5,-544 257.5,-544 257.5,-461 374.5,-461 374.5,-544\"/>\n<text text-anchor=\"middle\" x=\"316\" y=\"-528.8\" font-family=\"Times,serif\" font-size=\"14.00\" fill=\"#000000\">X[12] &lt;= 0.5</text>\n<text text-anchor=\"middle\" x=\"316\" y=\"-513.8\" font-family=\"Times,serif\" font-size=\"14.00\" fill=\"#000000\">gini = 0.008</text>\n<text text-anchor=\"middle\" x=\"316\" y=\"-498.8\" font-family=\"Times,serif\" font-size=\"14.00\" fill=\"#000000\">samples = 1887</text>\n<text text-anchor=\"middle\" x=\"316\" y=\"-483.8\" font-family=\"Times,serif\" font-size=\"14.00\" fill=\"#000000\">value = [8, 1879]</text>\n<text text-anchor=\"middle\" x=\"316\" y=\"-468.8\" font-family=\"Times,serif\" font-size=\"14.00\" fill=\"#000000\">class = Edible</text>\n</g>\n<!-- 4&#45;&gt;23 -->\n<g id=\"edge8\" class=\"edge\">\n<title>4&#45;&gt;23</title>\n<path fill=\"none\" stroke=\"#000000\" d=\"M356.9657,-579.8796C352.436,-571.3236 347.6185,-562.2238 342.9382,-553.3833\"/>\n<polygon fill=\"#000000\" stroke=\"#000000\" points=\"345.9006,-551.4983 338.1284,-544.2981 339.7141,-554.7736 345.9006,-551.4983\"/>\n</g>\n<!-- 24 -->\n<g id=\"node14\" class=\"node\">\n<title>24</title>\n<polygon fill=\"#e58139\" stroke=\"#000000\" points=\"511.5,-536.5 392.5,-536.5 392.5,-468.5 511.5,-468.5 511.5,-536.5\"/>\n<text text-anchor=\"middle\" x=\"452\" y=\"-521.3\" font-family=\"Times,serif\" font-size=\"14.00\" fill=\"#000000\">gini = 0.0</text>\n<text text-anchor=\"middle\" x=\"452\" y=\"-506.3\" font-family=\"Times,serif\" font-size=\"14.00\" fill=\"#000000\">samples = 11</text>\n<text text-anchor=\"middle\" x=\"452\" y=\"-491.3\" font-family=\"Times,serif\" font-size=\"14.00\" fill=\"#000000\">value = [11, 0]</text>\n<text text-anchor=\"middle\" x=\"452\" y=\"-476.3\" font-family=\"Times,serif\" font-size=\"14.00\" fill=\"#000000\">class = Poisonous</text>\n</g>\n<!-- 4&#45;&gt;24 -->\n<g id=\"edge13\" class=\"edge\">\n<title>4&#45;&gt;24</title>\n<path fill=\"none\" stroke=\"#000000\" d=\"M404.5319,-579.8796C411.3448,-568.7735 418.7198,-556.7513 425.5794,-545.5691\"/>\n<polygon fill=\"#000000\" stroke=\"#000000\" points=\"428.704,-547.1691 430.9497,-536.8149 422.7372,-543.5087 428.704,-547.1691\"/>\n</g>\n<!-- 31 -->\n<g id=\"node10\" class=\"node\">\n<title>31</title>\n<polygon fill=\"#9ccef2\" stroke=\"#000000\" points=\"365,-425 263,-425 263,-342 365,-342 365,-425\"/>\n<text text-anchor=\"middle\" x=\"314\" y=\"-409.8\" font-family=\"Times,serif\" font-size=\"14.00\" fill=\"#000000\">X[7] &lt;= 0.5</text>\n<text text-anchor=\"middle\" x=\"314\" y=\"-394.8\" font-family=\"Times,serif\" font-size=\"14.00\" fill=\"#000000\">gini = 0.444</text>\n<text text-anchor=\"middle\" x=\"314\" y=\"-379.8\" font-family=\"Times,serif\" font-size=\"14.00\" fill=\"#000000\">samples = 24</text>\n<text text-anchor=\"middle\" x=\"314\" y=\"-364.8\" font-family=\"Times,serif\" font-size=\"14.00\" fill=\"#000000\">value = [8, 16]</text>\n<text text-anchor=\"middle\" x=\"314\" y=\"-349.8\" font-family=\"Times,serif\" font-size=\"14.00\" fill=\"#000000\">class = Edible</text>\n</g>\n<!-- 23&#45;&gt;31 -->\n<g id=\"edge9\" class=\"edge\">\n<title>23&#45;&gt;31</title>\n<path fill=\"none\" stroke=\"#000000\" d=\"M315.3005,-460.8796C315.1628,-452.6838 315.0166,-443.9891 314.874,-435.5013\"/>\n<polygon fill=\"#000000\" stroke=\"#000000\" points=\"318.3701,-435.2378 314.7025,-425.2981 311.3711,-435.3555 318.3701,-435.2378\"/>\n</g>\n<!-- 32 -->\n<g id=\"node13\" class=\"node\">\n<title>32</title>\n<polygon fill=\"#399de5\" stroke=\"#000000\" points=\"500.5,-417.5 383.5,-417.5 383.5,-349.5 500.5,-349.5 500.5,-417.5\"/>\n<text text-anchor=\"middle\" x=\"442\" y=\"-402.3\" font-family=\"Times,serif\" font-size=\"14.00\" fill=\"#000000\">gini = 0.0</text>\n<text text-anchor=\"middle\" x=\"442\" y=\"-387.3\" font-family=\"Times,serif\" font-size=\"14.00\" fill=\"#000000\">samples = 1863</text>\n<text text-anchor=\"middle\" x=\"442\" y=\"-372.3\" font-family=\"Times,serif\" font-size=\"14.00\" fill=\"#000000\">value = [0, 1863]</text>\n<text text-anchor=\"middle\" x=\"442\" y=\"-357.3\" font-family=\"Times,serif\" font-size=\"14.00\" fill=\"#000000\">class = Edible</text>\n</g>\n<!-- 23&#45;&gt;32 -->\n<g id=\"edge12\" class=\"edge\">\n<title>23&#45;&gt;32</title>\n<path fill=\"none\" stroke=\"#000000\" d=\"M360.0687,-460.8796C372.4102,-449.2237 385.8202,-436.5587 398.149,-424.9148\"/>\n<polygon fill=\"#000000\" stroke=\"#000000\" points=\"400.7996,-427.2258 405.6665,-417.8149 395.9932,-422.1366 400.7996,-427.2258\"/>\n</g>\n<!-- 33 -->\n<g id=\"node11\" class=\"node\">\n<title>33</title>\n<polygon fill=\"#399de5\" stroke=\"#000000\" points=\"300,-298.5 198,-298.5 198,-230.5 300,-230.5 300,-298.5\"/>\n<text text-anchor=\"middle\" x=\"249\" y=\"-283.3\" font-family=\"Times,serif\" font-size=\"14.00\" fill=\"#000000\">gini = 0.0</text>\n<text text-anchor=\"middle\" x=\"249\" y=\"-268.3\" font-family=\"Times,serif\" font-size=\"14.00\" fill=\"#000000\">samples = 16</text>\n<text text-anchor=\"middle\" x=\"249\" y=\"-253.3\" font-family=\"Times,serif\" font-size=\"14.00\" fill=\"#000000\">value = [0, 16]</text>\n<text text-anchor=\"middle\" x=\"249\" y=\"-238.3\" font-family=\"Times,serif\" font-size=\"14.00\" fill=\"#000000\">class = Edible</text>\n</g>\n<!-- 31&#45;&gt;33 -->\n<g id=\"edge10\" class=\"edge\">\n<title>31&#45;&gt;33</title>\n<path fill=\"none\" stroke=\"#000000\" d=\"M291.2662,-341.8796C285.2599,-330.8835 278.763,-318.9893 272.7067,-307.9015\"/>\n<polygon fill=\"#000000\" stroke=\"#000000\" points=\"275.6088,-305.9133 267.7435,-298.8149 269.4655,-309.2689 275.6088,-305.9133\"/>\n</g>\n<!-- 34 -->\n<g id=\"node12\" class=\"node\">\n<title>34</title>\n<polygon fill=\"#e58139\" stroke=\"#000000\" points=\"437.5,-298.5 318.5,-298.5 318.5,-230.5 437.5,-230.5 437.5,-298.5\"/>\n<text text-anchor=\"middle\" x=\"378\" y=\"-283.3\" font-family=\"Times,serif\" font-size=\"14.00\" fill=\"#000000\">gini = 0.0</text>\n<text text-anchor=\"middle\" x=\"378\" y=\"-268.3\" font-family=\"Times,serif\" font-size=\"14.00\" fill=\"#000000\">samples = 8</text>\n<text text-anchor=\"middle\" x=\"378\" y=\"-253.3\" font-family=\"Times,serif\" font-size=\"14.00\" fill=\"#000000\">value = [8, 0]</text>\n<text text-anchor=\"middle\" x=\"378\" y=\"-238.3\" font-family=\"Times,serif\" font-size=\"14.00\" fill=\"#000000\">class = Poisonous</text>\n</g>\n<!-- 31&#45;&gt;34 -->\n<g id=\"edge11\" class=\"edge\">\n<title>31&#45;&gt;34</title>\n<path fill=\"none\" stroke=\"#000000\" d=\"M336.3841,-341.8796C342.298,-330.8835 348.6949,-318.9893 354.658,-307.9015\"/>\n<polygon fill=\"#000000\" stroke=\"#000000\" points=\"357.8908,-309.2799 359.5449,-298.8149 351.7258,-305.9642 357.8908,-309.2799\"/>\n</g>\n<!-- 5 -->\n<g id=\"node16\" class=\"node\">\n<title>5</title>\n<polygon fill=\"#55abe9\" stroke=\"#000000\" points=\"710.5,-663 593.5,-663 593.5,-580 710.5,-580 710.5,-663\"/>\n<text text-anchor=\"middle\" x=\"652\" y=\"-647.8\" font-family=\"Times,serif\" font-size=\"14.00\" fill=\"#000000\">X[10] &lt;= 0.5</text>\n<text text-anchor=\"middle\" x=\"652\" y=\"-632.8\" font-family=\"Times,serif\" font-size=\"14.00\" fill=\"#000000\">gini = 0.217</text>\n<text text-anchor=\"middle\" x=\"652\" y=\"-617.8\" font-family=\"Times,serif\" font-size=\"14.00\" fill=\"#000000\">samples = 509</text>\n<text text-anchor=\"middle\" x=\"652\" y=\"-602.8\" font-family=\"Times,serif\" font-size=\"14.00\" fill=\"#000000\">value = [63, 446]</text>\n<text text-anchor=\"middle\" x=\"652\" y=\"-587.8\" font-family=\"Times,serif\" font-size=\"14.00\" fill=\"#000000\">class = Edible</text>\n</g>\n<!-- 2&#45;&gt;5 -->\n<g id=\"edge15\" class=\"edge\">\n<title>2&#45;&gt;5</title>\n<path fill=\"none\" stroke=\"#000000\" d=\"M652,-698.8796C652,-690.6838 652,-681.9891 652,-673.5013\"/>\n<polygon fill=\"#000000\" stroke=\"#000000\" points=\"655.5001,-673.298 652,-663.2981 648.5001,-673.2981 655.5001,-673.298\"/>\n</g>\n<!-- 6 -->\n<g id=\"node19\" class=\"node\">\n<title>6</title>\n<polygon fill=\"#e99355\" stroke=\"#000000\" points=\"924,-663 792,-663 792,-580 924,-580 924,-663\"/>\n<text text-anchor=\"middle\" x=\"858\" y=\"-647.8\" font-family=\"Times,serif\" font-size=\"14.00\" fill=\"#000000\">X[7] &lt;= 0.5</text>\n<text text-anchor=\"middle\" x=\"858\" y=\"-632.8\" font-family=\"Times,serif\" font-size=\"14.00\" fill=\"#000000\">gini = 0.219</text>\n<text text-anchor=\"middle\" x=\"858\" y=\"-617.8\" font-family=\"Times,serif\" font-size=\"14.00\" fill=\"#000000\">samples = 2862</text>\n<text text-anchor=\"middle\" x=\"858\" y=\"-602.8\" font-family=\"Times,serif\" font-size=\"14.00\" fill=\"#000000\">value = [2504, 358]</text>\n<text text-anchor=\"middle\" x=\"858\" y=\"-587.8\" font-family=\"Times,serif\" font-size=\"14.00\" fill=\"#000000\">class = Poisonous</text>\n</g>\n<!-- 2&#45;&gt;6 -->\n<g id=\"edge18\" class=\"edge\">\n<title>2&#45;&gt;6</title>\n<path fill=\"none\" stroke=\"#000000\" d=\"M718.0297,-702.3566C738.8198,-690.3468 761.9268,-676.9986 783.2768,-664.6653\"/>\n<polygon fill=\"#000000\" stroke=\"#000000\" points=\"785.0825,-667.6643 791.9908,-659.6315 781.581,-661.603 785.0825,-667.6643\"/>\n</g>\n<!-- 9 -->\n<g id=\"node17\" class=\"node\">\n<title>9</title>\n<polygon fill=\"#e58139\" stroke=\"#000000\" points=\"648.5,-536.5 529.5,-536.5 529.5,-468.5 648.5,-468.5 648.5,-536.5\"/>\n<text text-anchor=\"middle\" x=\"589\" y=\"-521.3\" font-family=\"Times,serif\" font-size=\"14.00\" fill=\"#000000\">gini = 0.0</text>\n<text text-anchor=\"middle\" x=\"589\" y=\"-506.3\" font-family=\"Times,serif\" font-size=\"14.00\" fill=\"#000000\">samples = 63</text>\n<text text-anchor=\"middle\" x=\"589\" y=\"-491.3\" font-family=\"Times,serif\" font-size=\"14.00\" fill=\"#000000\">value = [63, 0]</text>\n<text text-anchor=\"middle\" x=\"589\" y=\"-476.3\" font-family=\"Times,serif\" font-size=\"14.00\" fill=\"#000000\">class = Poisonous</text>\n</g>\n<!-- 5&#45;&gt;9 -->\n<g id=\"edge16\" class=\"edge\">\n<title>5&#45;&gt;9</title>\n<path fill=\"none\" stroke=\"#000000\" d=\"M629.9657,-579.8796C624.1442,-568.8835 617.8473,-556.9893 611.9773,-545.9015\"/>\n<polygon fill=\"#000000\" stroke=\"#000000\" points=\"614.9389,-544.0152 607.1667,-536.8149 608.7524,-547.2905 614.9389,-544.0152\"/>\n</g>\n<!-- 10 -->\n<g id=\"node18\" class=\"node\">\n<title>10</title>\n<polygon fill=\"#399de5\" stroke=\"#000000\" points=\"777,-536.5 667,-536.5 667,-468.5 777,-468.5 777,-536.5\"/>\n<text text-anchor=\"middle\" x=\"722\" y=\"-521.3\" font-family=\"Times,serif\" font-size=\"14.00\" fill=\"#000000\">gini = 0.0</text>\n<text text-anchor=\"middle\" x=\"722\" y=\"-506.3\" font-family=\"Times,serif\" font-size=\"14.00\" fill=\"#000000\">samples = 446</text>\n<text text-anchor=\"middle\" x=\"722\" y=\"-491.3\" font-family=\"Times,serif\" font-size=\"14.00\" fill=\"#000000\">value = [0, 446]</text>\n<text text-anchor=\"middle\" x=\"722\" y=\"-476.3\" font-family=\"Times,serif\" font-size=\"14.00\" fill=\"#000000\">class = Edible</text>\n</g>\n<!-- 5&#45;&gt;10 -->\n<g id=\"edge17\" class=\"edge\">\n<title>5&#45;&gt;10</title>\n<path fill=\"none\" stroke=\"#000000\" d=\"M676.4826,-579.8796C683.0156,-568.7735 690.0875,-556.7513 696.6652,-545.5691\"/>\n<polygon fill=\"#000000\" stroke=\"#000000\" points=\"699.7613,-547.2089 701.8147,-536.8149 693.7277,-543.6597 699.7613,-547.2089\"/>\n</g>\n<!-- 7 -->\n<g id=\"node20\" class=\"node\">\n<title>7</title>\n<polygon fill=\"#e6843e\" stroke=\"#000000\" points=\"920.5,-544 795.5,-544 795.5,-461 920.5,-461 920.5,-544\"/>\n<text text-anchor=\"middle\" x=\"858\" y=\"-528.8\" font-family=\"Times,serif\" font-size=\"14.00\" fill=\"#000000\">X[17] &lt;= 0.5</text>\n<text text-anchor=\"middle\" x=\"858\" y=\"-513.8\" font-family=\"Times,serif\" font-size=\"14.00\" fill=\"#000000\">gini = 0.049</text>\n<text text-anchor=\"middle\" x=\"858\" y=\"-498.8\" font-family=\"Times,serif\" font-size=\"14.00\" fill=\"#000000\">samples = 2420</text>\n<text text-anchor=\"middle\" x=\"858\" y=\"-483.8\" font-family=\"Times,serif\" font-size=\"14.00\" fill=\"#000000\">value = [2359, 61]</text>\n<text text-anchor=\"middle\" x=\"858\" y=\"-468.8\" font-family=\"Times,serif\" font-size=\"14.00\" fill=\"#000000\">class = Poisonous</text>\n</g>\n<!-- 6&#45;&gt;7 -->\n<g id=\"edge19\" class=\"edge\">\n<title>6&#45;&gt;7</title>\n<path fill=\"none\" stroke=\"#000000\" d=\"M858,-579.8796C858,-571.6838 858,-562.9891 858,-554.5013\"/>\n<polygon fill=\"#000000\" stroke=\"#000000\" points=\"861.5001,-554.298 858,-544.2981 854.5001,-554.2981 861.5001,-554.298\"/>\n</g>\n<!-- 8 -->\n<g id=\"node27\" class=\"node\">\n<title>8</title>\n<polygon fill=\"#9acdf2\" stroke=\"#000000\" points=\"1063.5,-544 938.5,-544 938.5,-461 1063.5,-461 1063.5,-544\"/>\n<text text-anchor=\"middle\" x=\"1001\" y=\"-528.8\" font-family=\"Times,serif\" font-size=\"14.00\" fill=\"#000000\">X[9] &lt;= 0.5</text>\n<text text-anchor=\"middle\" x=\"1001\" y=\"-513.8\" font-family=\"Times,serif\" font-size=\"14.00\" fill=\"#000000\">gini = 0.441</text>\n<text text-anchor=\"middle\" x=\"1001\" y=\"-498.8\" font-family=\"Times,serif\" font-size=\"14.00\" fill=\"#000000\">samples = 442</text>\n<text text-anchor=\"middle\" x=\"1001\" y=\"-483.8\" font-family=\"Times,serif\" font-size=\"14.00\" fill=\"#000000\">value = [145, 297]</text>\n<text text-anchor=\"middle\" x=\"1001\" y=\"-468.8\" font-family=\"Times,serif\" font-size=\"14.00\" fill=\"#000000\">class = Edible</text>\n</g>\n<!-- 6&#45;&gt;8 -->\n<g id=\"edge26\" class=\"edge\">\n<title>6&#45;&gt;8</title>\n<path fill=\"none\" stroke=\"#000000\" d=\"M908.0145,-579.8796C919.2701,-570.513 931.3088,-560.4948 942.8646,-550.8784\"/>\n<polygon fill=\"#000000\" stroke=\"#000000\" points=\"945.3242,-553.385 950.7721,-544.2981 940.8466,-548.0043 945.3242,-553.385\"/>\n</g>\n<!-- 13 -->\n<g id=\"node21\" class=\"node\">\n<title>13</title>\n<polygon fill=\"#399de5\" stroke=\"#000000\" points=\"778,-417.5 676,-417.5 676,-349.5 778,-349.5 778,-417.5\"/>\n<text text-anchor=\"middle\" x=\"727\" y=\"-402.3\" font-family=\"Times,serif\" font-size=\"14.00\" fill=\"#000000\">gini = 0.0</text>\n<text text-anchor=\"middle\" x=\"727\" y=\"-387.3\" font-family=\"Times,serif\" font-size=\"14.00\" fill=\"#000000\">samples = 29</text>\n<text text-anchor=\"middle\" x=\"727\" y=\"-372.3\" font-family=\"Times,serif\" font-size=\"14.00\" fill=\"#000000\">value = [0, 29]</text>\n<text text-anchor=\"middle\" x=\"727\" y=\"-357.3\" font-family=\"Times,serif\" font-size=\"14.00\" fill=\"#000000\">class = Edible</text>\n</g>\n<!-- 7&#45;&gt;13 -->\n<g id=\"edge20\" class=\"edge\">\n<title>7&#45;&gt;13</title>\n<path fill=\"none\" stroke=\"#000000\" d=\"M812.1826,-460.8796C799.2303,-449.1138 785.146,-436.3197 772.2286,-424.5855\"/>\n<polygon fill=\"#000000\" stroke=\"#000000\" points=\"774.5306,-421.9482 764.7753,-417.8149 769.8239,-427.1296 774.5306,-421.9482\"/>\n</g>\n<!-- 14 -->\n<g id=\"node22\" class=\"node\">\n<title>14</title>\n<polygon fill=\"#e5833c\" stroke=\"#000000\" points=\"921.5,-425 796.5,-425 796.5,-342 921.5,-342 921.5,-425\"/>\n<text text-anchor=\"middle\" x=\"859\" y=\"-409.8\" font-family=\"Times,serif\" font-size=\"14.00\" fill=\"#000000\">X[17] &lt;= 1.5</text>\n<text text-anchor=\"middle\" x=\"859\" y=\"-394.8\" font-family=\"Times,serif\" font-size=\"14.00\" fill=\"#000000\">gini = 0.026</text>\n<text text-anchor=\"middle\" x=\"859\" y=\"-379.8\" font-family=\"Times,serif\" font-size=\"14.00\" fill=\"#000000\">samples = 2391</text>\n<text text-anchor=\"middle\" x=\"859\" y=\"-364.8\" font-family=\"Times,serif\" font-size=\"14.00\" fill=\"#000000\">value = [2359, 32]</text>\n<text text-anchor=\"middle\" x=\"859\" y=\"-349.8\" font-family=\"Times,serif\" font-size=\"14.00\" fill=\"#000000\">class = Poisonous</text>\n</g>\n<!-- 7&#45;&gt;14 -->\n<g id=\"edge21\" class=\"edge\">\n<title>7&#45;&gt;14</title>\n<path fill=\"none\" stroke=\"#000000\" d=\"M858.3498,-460.8796C858.4186,-452.6838 858.4917,-443.9891 858.563,-435.5013\"/>\n<polygon fill=\"#000000\" stroke=\"#000000\" points=\"862.0645,-435.3272 858.6488,-425.2981 855.0648,-435.2683 862.0645,-435.3272\"/>\n</g>\n<!-- 27 -->\n<g id=\"node23\" class=\"node\">\n<title>27</title>\n<polygon fill=\"#e58139\" stroke=\"#000000\" points=\"782.5,-298.5 663.5,-298.5 663.5,-230.5 782.5,-230.5 782.5,-298.5\"/>\n<text text-anchor=\"middle\" x=\"723\" y=\"-283.3\" font-family=\"Times,serif\" font-size=\"14.00\" fill=\"#000000\">gini = 0.0</text>\n<text text-anchor=\"middle\" x=\"723\" y=\"-268.3\" font-family=\"Times,serif\" font-size=\"14.00\" fill=\"#000000\">samples = 2124</text>\n<text text-anchor=\"middle\" x=\"723\" y=\"-253.3\" font-family=\"Times,serif\" font-size=\"14.00\" fill=\"#000000\">value = [2124, 0]</text>\n<text text-anchor=\"middle\" x=\"723\" y=\"-238.3\" font-family=\"Times,serif\" font-size=\"14.00\" fill=\"#000000\">class = Poisonous</text>\n</g>\n<!-- 14&#45;&gt;27 -->\n<g id=\"edge22\" class=\"edge\">\n<title>14&#45;&gt;27</title>\n<path fill=\"none\" stroke=\"#000000\" d=\"M811.4338,-341.8796C797.9872,-330.1138 783.3653,-317.3197 769.9549,-305.5855\"/>\n<polygon fill=\"#000000\" stroke=\"#000000\" points=\"772.0476,-302.766 762.2171,-298.8149 767.4381,-308.034 772.0476,-302.766\"/>\n</g>\n<!-- 28 -->\n<g id=\"node24\" class=\"node\">\n<title>28</title>\n<polygon fill=\"#e99254\" stroke=\"#000000\" points=\"919.5,-306 800.5,-306 800.5,-223 919.5,-223 919.5,-306\"/>\n<text text-anchor=\"middle\" x=\"860\" y=\"-290.8\" font-family=\"Times,serif\" font-size=\"14.00\" fill=\"#000000\">X[19] &lt;= 6.0</text>\n<text text-anchor=\"middle\" x=\"860\" y=\"-275.8\" font-family=\"Times,serif\" font-size=\"14.00\" fill=\"#000000\">gini = 0.211</text>\n<text text-anchor=\"middle\" x=\"860\" y=\"-260.8\" font-family=\"Times,serif\" font-size=\"14.00\" fill=\"#000000\">samples = 267</text>\n<text text-anchor=\"middle\" x=\"860\" y=\"-245.8\" font-family=\"Times,serif\" font-size=\"14.00\" fill=\"#000000\">value = [235, 32]</text>\n<text text-anchor=\"middle\" x=\"860\" y=\"-230.8\" font-family=\"Times,serif\" font-size=\"14.00\" fill=\"#000000\">class = Poisonous</text>\n</g>\n<!-- 14&#45;&gt;28 -->\n<g id=\"edge23\" class=\"edge\">\n<title>14&#45;&gt;28</title>\n<path fill=\"none\" stroke=\"#000000\" d=\"M859.3498,-341.8796C859.4186,-333.6838 859.4917,-324.9891 859.563,-316.5013\"/>\n<polygon fill=\"#000000\" stroke=\"#000000\" points=\"863.0645,-316.3272 859.6488,-306.2981 856.0648,-316.2683 863.0645,-316.3272\"/>\n</g>\n<!-- 29 -->\n<g id=\"node25\" class=\"node\">\n<title>29</title>\n<polygon fill=\"#399de5\" stroke=\"#000000\" points=\"815,-179.5 713,-179.5 713,-111.5 815,-111.5 815,-179.5\"/>\n<text text-anchor=\"middle\" x=\"764\" y=\"-164.3\" font-family=\"Times,serif\" font-size=\"14.00\" fill=\"#000000\">gini = 0.0</text>\n<text text-anchor=\"middle\" x=\"764\" y=\"-149.3\" font-family=\"Times,serif\" font-size=\"14.00\" fill=\"#000000\">samples = 32</text>\n<text text-anchor=\"middle\" x=\"764\" y=\"-134.3\" font-family=\"Times,serif\" font-size=\"14.00\" fill=\"#000000\">value = [0, 32]</text>\n<text text-anchor=\"middle\" x=\"764\" y=\"-119.3\" font-family=\"Times,serif\" font-size=\"14.00\" fill=\"#000000\">class = Edible</text>\n</g>\n<!-- 28&#45;&gt;29 -->\n<g id=\"edge24\" class=\"edge\">\n<title>28&#45;&gt;29</title>\n<path fill=\"none\" stroke=\"#000000\" d=\"M826.4239,-222.8796C817.2869,-211.5536 807.3813,-199.2748 798.2098,-187.9058\"/>\n<polygon fill=\"#000000\" stroke=\"#000000\" points=\"800.6856,-185.4005 791.6826,-179.8149 795.2374,-189.7957 800.6856,-185.4005\"/>\n</g>\n<!-- 30 -->\n<g id=\"node26\" class=\"node\">\n<title>30</title>\n<polygon fill=\"#e58139\" stroke=\"#000000\" points=\"952.5,-179.5 833.5,-179.5 833.5,-111.5 952.5,-111.5 952.5,-179.5\"/>\n<text text-anchor=\"middle\" x=\"893\" y=\"-164.3\" font-family=\"Times,serif\" font-size=\"14.00\" fill=\"#000000\">gini = 0.0</text>\n<text text-anchor=\"middle\" x=\"893\" y=\"-149.3\" font-family=\"Times,serif\" font-size=\"14.00\" fill=\"#000000\">samples = 235</text>\n<text text-anchor=\"middle\" x=\"893\" y=\"-134.3\" font-family=\"Times,serif\" font-size=\"14.00\" fill=\"#000000\">value = [235, 0]</text>\n<text text-anchor=\"middle\" x=\"893\" y=\"-119.3\" font-family=\"Times,serif\" font-size=\"14.00\" fill=\"#000000\">class = Poisonous</text>\n</g>\n<!-- 28&#45;&gt;30 -->\n<g id=\"edge25\" class=\"edge\">\n<title>28&#45;&gt;30</title>\n<path fill=\"none\" stroke=\"#000000\" d=\"M871.5418,-222.8796C874.5301,-212.1034 877.7577,-200.4647 880.7795,-189.5677\"/>\n<polygon fill=\"#000000\" stroke=\"#000000\" points=\"884.1845,-190.3866 883.4841,-179.8149 877.439,-188.516 884.1845,-190.3866\"/>\n</g>\n<!-- 11 -->\n<g id=\"node28\" class=\"node\">\n<title>11</title>\n<polygon fill=\"#72b9ec\" stroke=\"#000000\" points=\"1057.5,-425 940.5,-425 940.5,-342 1057.5,-342 1057.5,-425\"/>\n<text text-anchor=\"middle\" x=\"999\" y=\"-409.8\" font-family=\"Times,serif\" font-size=\"14.00\" fill=\"#000000\">X[21] &lt;= 1.5</text>\n<text text-anchor=\"middle\" x=\"999\" y=\"-394.8\" font-family=\"Times,serif\" font-size=\"14.00\" fill=\"#000000\">gini = 0.346</text>\n<text text-anchor=\"middle\" x=\"999\" y=\"-379.8\" font-family=\"Times,serif\" font-size=\"14.00\" fill=\"#000000\">samples = 382</text>\n<text text-anchor=\"middle\" x=\"999\" y=\"-364.8\" font-family=\"Times,serif\" font-size=\"14.00\" fill=\"#000000\">value = [85, 297]</text>\n<text text-anchor=\"middle\" x=\"999\" y=\"-349.8\" font-family=\"Times,serif\" font-size=\"14.00\" fill=\"#000000\">class = Edible</text>\n</g>\n<!-- 8&#45;&gt;11 -->\n<g id=\"edge27\" class=\"edge\">\n<title>8&#45;&gt;11</title>\n<path fill=\"none\" stroke=\"#000000\" d=\"M1000.3005,-460.8796C1000.1628,-452.6838 1000.0166,-443.9891 999.874,-435.5013\"/>\n<polygon fill=\"#000000\" stroke=\"#000000\" points=\"1003.3701,-435.2378 999.7025,-425.2981 996.3711,-435.3555 1003.3701,-435.2378\"/>\n</g>\n<!-- 12 -->\n<g id=\"node35\" class=\"node\">\n<title>12</title>\n<polygon fill=\"#e58139\" stroke=\"#000000\" points=\"1194.5,-417.5 1075.5,-417.5 1075.5,-349.5 1194.5,-349.5 1194.5,-417.5\"/>\n<text text-anchor=\"middle\" x=\"1135\" y=\"-402.3\" font-family=\"Times,serif\" font-size=\"14.00\" fill=\"#000000\">gini = 0.0</text>\n<text text-anchor=\"middle\" x=\"1135\" y=\"-387.3\" font-family=\"Times,serif\" font-size=\"14.00\" fill=\"#000000\">samples = 60</text>\n<text text-anchor=\"middle\" x=\"1135\" y=\"-372.3\" font-family=\"Times,serif\" font-size=\"14.00\" fill=\"#000000\">value = [60, 0]</text>\n<text text-anchor=\"middle\" x=\"1135\" y=\"-357.3\" font-family=\"Times,serif\" font-size=\"14.00\" fill=\"#000000\">class = Poisonous</text>\n</g>\n<!-- 8&#45;&gt;12 -->\n<g id=\"edge34\" class=\"edge\">\n<title>8&#45;&gt;12</title>\n<path fill=\"none\" stroke=\"#000000\" d=\"M1047.8667,-460.8796C1061.1156,-449.1138 1075.5224,-436.3197 1088.7356,-424.5855\"/>\n<polygon fill=\"#000000\" stroke=\"#000000\" points=\"1091.2065,-427.0722 1096.3597,-417.8149 1086.5584,-421.8381 1091.2065,-427.0722\"/>\n</g>\n<!-- 17 -->\n<g id=\"node29\" class=\"node\">\n<title>17</title>\n<polygon fill=\"#399de5\" stroke=\"#000000\" points=\"1053,-298.5 943,-298.5 943,-230.5 1053,-230.5 1053,-298.5\"/>\n<text text-anchor=\"middle\" x=\"998\" y=\"-283.3\" font-family=\"Times,serif\" font-size=\"14.00\" fill=\"#000000\">gini = 0.0</text>\n<text text-anchor=\"middle\" x=\"998\" y=\"-268.3\" font-family=\"Times,serif\" font-size=\"14.00\" fill=\"#000000\">samples = 198</text>\n<text text-anchor=\"middle\" x=\"998\" y=\"-253.3\" font-family=\"Times,serif\" font-size=\"14.00\" fill=\"#000000\">value = [0, 198]</text>\n<text text-anchor=\"middle\" x=\"998\" y=\"-238.3\" font-family=\"Times,serif\" font-size=\"14.00\" fill=\"#000000\">class = Edible</text>\n</g>\n<!-- 11&#45;&gt;17 -->\n<g id=\"edge28\" class=\"edge\">\n<title>11&#45;&gt;17</title>\n<path fill=\"none\" stroke=\"#000000\" d=\"M998.6502,-341.8796C998.5606,-331.2134 998.4639,-319.7021 998.3731,-308.9015\"/>\n<polygon fill=\"#000000\" stroke=\"#000000\" points=\"1001.8724,-308.7851 998.2884,-298.8149 994.8726,-308.844 1001.8724,-308.7851\"/>\n</g>\n<!-- 18 -->\n<g id=\"node30\" class=\"node\">\n<title>18</title>\n<polygon fill=\"#e3f1fb\" stroke=\"#000000\" points=\"1181,-306 1071,-306 1071,-223 1181,-223 1181,-306\"/>\n<text text-anchor=\"middle\" x=\"1126\" y=\"-290.8\" font-family=\"Times,serif\" font-size=\"14.00\" fill=\"#000000\">X[3] &lt;= 0.5</text>\n<text text-anchor=\"middle\" x=\"1126\" y=\"-275.8\" font-family=\"Times,serif\" font-size=\"14.00\" fill=\"#000000\">gini = 0.497</text>\n<text text-anchor=\"middle\" x=\"1126\" y=\"-260.8\" font-family=\"Times,serif\" font-size=\"14.00\" fill=\"#000000\">samples = 184</text>\n<text text-anchor=\"middle\" x=\"1126\" y=\"-245.8\" font-family=\"Times,serif\" font-size=\"14.00\" fill=\"#000000\">value = [85, 99]</text>\n<text text-anchor=\"middle\" x=\"1126\" y=\"-230.8\" font-family=\"Times,serif\" font-size=\"14.00\" fill=\"#000000\">class = Edible</text>\n</g>\n<!-- 11&#45;&gt;18 -->\n<g id=\"edge29\" class=\"edge\">\n<title>11&#45;&gt;18</title>\n<path fill=\"none\" stroke=\"#000000\" d=\"M1043.4184,-341.8796C1053.3186,-332.6031 1063.9009,-322.6874 1074.0731,-313.1559\"/>\n<polygon fill=\"#000000\" stroke=\"#000000\" points=\"1076.4879,-315.6896 1081.392,-306.2981 1071.7016,-310.5816 1076.4879,-315.6896\"/>\n</g>\n<!-- 19 -->\n<g id=\"node31\" class=\"node\">\n<title>19</title>\n<polygon fill=\"#e78b49\" stroke=\"#000000\" points=\"1151.5,-187 1032.5,-187 1032.5,-104 1151.5,-104 1151.5,-187\"/>\n<text text-anchor=\"middle\" x=\"1092\" y=\"-171.8\" font-family=\"Times,serif\" font-size=\"14.00\" fill=\"#000000\">X[2] &lt;= 6.5</text>\n<text text-anchor=\"middle\" x=\"1092\" y=\"-156.8\" font-family=\"Times,serif\" font-size=\"14.00\" fill=\"#000000\">gini = 0.141</text>\n<text text-anchor=\"middle\" x=\"1092\" y=\"-141.8\" font-family=\"Times,serif\" font-size=\"14.00\" fill=\"#000000\">samples = 92</text>\n<text text-anchor=\"middle\" x=\"1092\" y=\"-126.8\" font-family=\"Times,serif\" font-size=\"14.00\" fill=\"#000000\">value = [85, 7]</text>\n<text text-anchor=\"middle\" x=\"1092\" y=\"-111.8\" font-family=\"Times,serif\" font-size=\"14.00\" fill=\"#000000\">class = Poisonous</text>\n</g>\n<!-- 18&#45;&gt;19 -->\n<g id=\"edge30\" class=\"edge\">\n<title>18&#45;&gt;19</title>\n<path fill=\"none\" stroke=\"#000000\" d=\"M1114.1084,-222.8796C1111.7153,-214.5037 1109.1733,-205.6067 1106.6977,-196.942\"/>\n<polygon fill=\"#000000\" stroke=\"#000000\" points=\"1110.0549,-195.9518 1103.9423,-187.2981 1103.3243,-197.8749 1110.0549,-195.9518\"/>\n</g>\n<!-- 20 -->\n<g id=\"node34\" class=\"node\">\n<title>20</title>\n<polygon fill=\"#399de5\" stroke=\"#000000\" points=\"1272,-179.5 1170,-179.5 1170,-111.5 1272,-111.5 1272,-179.5\"/>\n<text text-anchor=\"middle\" x=\"1221\" y=\"-164.3\" font-family=\"Times,serif\" font-size=\"14.00\" fill=\"#000000\">gini = 0.0</text>\n<text text-anchor=\"middle\" x=\"1221\" y=\"-149.3\" font-family=\"Times,serif\" font-size=\"14.00\" fill=\"#000000\">samples = 92</text>\n<text text-anchor=\"middle\" x=\"1221\" y=\"-134.3\" font-family=\"Times,serif\" font-size=\"14.00\" fill=\"#000000\">value = [0, 92]</text>\n<text text-anchor=\"middle\" x=\"1221\" y=\"-119.3\" font-family=\"Times,serif\" font-size=\"14.00\" fill=\"#000000\">class = Edible</text>\n</g>\n<!-- 18&#45;&gt;20 -->\n<g id=\"edge33\" class=\"edge\">\n<title>18&#45;&gt;20</title>\n<path fill=\"none\" stroke=\"#000000\" d=\"M1159.2264,-222.8796C1168.2681,-211.5536 1178.0705,-199.2748 1187.1466,-187.9058\"/>\n<polygon fill=\"#000000\" stroke=\"#000000\" points=\"1190.102,-189.8137 1193.6057,-179.8149 1184.6315,-185.4464 1190.102,-189.8137\"/>\n</g>\n<!-- 25 -->\n<g id=\"node32\" class=\"node\">\n<title>25</title>\n<polygon fill=\"#e58139\" stroke=\"#000000\" points=\"1088.5,-68 969.5,-68 969.5,0 1088.5,0 1088.5,-68\"/>\n<text text-anchor=\"middle\" x=\"1029\" y=\"-52.8\" font-family=\"Times,serif\" font-size=\"14.00\" fill=\"#000000\">gini = 0.0</text>\n<text text-anchor=\"middle\" x=\"1029\" y=\"-37.8\" font-family=\"Times,serif\" font-size=\"14.00\" fill=\"#000000\">samples = 85</text>\n<text text-anchor=\"middle\" x=\"1029\" y=\"-22.8\" font-family=\"Times,serif\" font-size=\"14.00\" fill=\"#000000\">value = [85, 0]</text>\n<text text-anchor=\"middle\" x=\"1029\" y=\"-7.8\" font-family=\"Times,serif\" font-size=\"14.00\" fill=\"#000000\">class = Poisonous</text>\n</g>\n<!-- 19&#45;&gt;25 -->\n<g id=\"edge31\" class=\"edge\">\n<title>19&#45;&gt;25</title>\n<path fill=\"none\" stroke=\"#000000\" d=\"M1068.5411,-103.9815C1063.6078,-95.2504 1058.3926,-86.0202 1053.4248,-77.2281\"/>\n<polygon fill=\"#000000\" stroke=\"#000000\" points=\"1056.3263,-75.2483 1048.3597,-68.2637 1050.2319,-78.6918 1056.3263,-75.2483\"/>\n</g>\n<!-- 26 -->\n<g id=\"node33\" class=\"node\">\n<title>26</title>\n<polygon fill=\"#399de5\" stroke=\"#000000\" points=\"1203,-68 1107,-68 1107,0 1203,0 1203,-68\"/>\n<text text-anchor=\"middle\" x=\"1155\" y=\"-52.8\" font-family=\"Times,serif\" font-size=\"14.00\" fill=\"#000000\">gini = 0.0</text>\n<text text-anchor=\"middle\" x=\"1155\" y=\"-37.8\" font-family=\"Times,serif\" font-size=\"14.00\" fill=\"#000000\">samples = 7</text>\n<text text-anchor=\"middle\" x=\"1155\" y=\"-22.8\" font-family=\"Times,serif\" font-size=\"14.00\" fill=\"#000000\">value = [0, 7]</text>\n<text text-anchor=\"middle\" x=\"1155\" y=\"-7.8\" font-family=\"Times,serif\" font-size=\"14.00\" fill=\"#000000\">class = Edible</text>\n</g>\n<!-- 19&#45;&gt;26 -->\n<g id=\"edge32\" class=\"edge\">\n<title>19&#45;&gt;26</title>\n<path fill=\"none\" stroke=\"#000000\" d=\"M1115.4589,-103.9815C1120.3922,-95.2504 1125.6074,-86.0202 1130.5752,-77.2281\"/>\n<polygon fill=\"#000000\" stroke=\"#000000\" points=\"1133.7681,-78.6918 1135.6403,-68.2637 1127.6737,-75.2483 1133.7681,-78.6918\"/>\n</g>\n</g>\n</svg>\n"
          },
          "metadata": {
            "tags": []
          },
          "execution_count": 17
        }
      ]
    },
    {
      "cell_type": "code",
      "metadata": {
        "id": "3MT2KF7EZk9L"
      },
      "source": [
        "y_pred = grid_tree.predict(X_test)"
      ],
      "execution_count": 18,
      "outputs": []
    },
    {
      "cell_type": "code",
      "metadata": {
        "colab": {
          "base_uri": "https://localhost:8080/"
        },
        "id": "G9VpI7jhZnIJ",
        "outputId": "85e6ed3c-75a1-4984-be18-153498de1fd0"
      },
      "source": [
        "from sklearn import metrics\n",
        "\n",
        "print(\"Accuracy:\",metrics.accuracy_score(y_test, y_pred))"
      ],
      "execution_count": 19,
      "outputs": [
        {
          "output_type": "stream",
          "text": [
            "Accuracy: 1.0\n"
          ],
          "name": "stdout"
        }
      ]
    },
    {
      "cell_type": "code",
      "metadata": {
        "id": "UUtDz2mG-cuY",
        "colab": {
          "base_uri": "https://localhost:8080/",
          "height": 319
        },
        "outputId": "0801f315-a1b4-4a3a-b861-c7e026bbce89"
      },
      "source": [
        "from sklearn.metrics import roc_curve, auc\n",
        "from matplotlib import pyplot as plt\n",
        "# Evaluate on test set\n",
        "fpr, tpr, _ = roc_curve(y_test, y_pred)\n",
        "roc_auc = auc(fpr, tpr)\n",
        "print('Test ROC AUC:', roc_auc)\n",
        "\n",
        "plt.plot([0, 1], [0, 1], 'k--')\n",
        "#plt.legend(loc=2, prop={'size': 15})\n",
        "plt.plot(fpr, tpr, label='Model 1 (ROC-AUC = {:.3f})'.format(roc_auc))\n",
        "plt.xlabel('False positive rate')\n",
        "plt.ylabel('True positive rate')\n",
        "plt.title('ROC curve')\n",
        "plt.legend(loc='best')\n",
        "plt.show()"
      ],
      "execution_count": 20,
      "outputs": [
        {
          "output_type": "stream",
          "text": [
            "Test ROC AUC: 1.0\n"
          ],
          "name": "stdout"
        },
        {
          "output_type": "display_data",
          "data": {
            "image/png": "[encoded data removed]",
            "text/plain": [
              "<Figure size 432x288 with 1 Axes>"
            ]
          },
          "metadata": {
            "tags": [],
            "needs_background": "light"
          }
        }
      ]
    },
    {
      "cell_type": "markdown",
      "metadata": {
        "id": "wNcX7oDGrArO"
      },
      "source": [
        "## Feature Importance"
      ]
    },
    {
      "cell_type": "code",
      "metadata": {
        "id": "u91jTh_H-cuZ",
        "colab": {
          "base_uri": "https://localhost:8080/",
          "height": 642
        },
        "outputId": "bda31d5b-6986-4cf5-9056-6296e2c3806f"
      },
      "source": [
        "\n",
        "# get importance\n",
        "importance = grid_tree.feature_importances_\n",
        "# summarize feature importance\n",
        "for i,v in enumerate(importance):\n",
        "\tprint('Feature: %0d, Score: %.5f' % (i,v))\n",
        "# plot feature importance\n",
        "plt.bar([x for x in range(len(importance))], importance)\n",
        "plt.show()"
      ],
      "execution_count": 21,
      "outputs": [
        {
          "output_type": "stream",
          "text": [
            "Feature: 0, Score: 0.00000\n",
            "Feature: 1, Score: 0.00000\n",
            "Feature: 2, Score: 0.00456\n",
            "Feature: 3, Score: 0.02766\n",
            "Feature: 4, Score: 0.00000\n",
            "Feature: 5, Score: 0.00000\n",
            "Feature: 6, Score: 0.00000\n",
            "Feature: 7, Score: 0.11389\n",
            "Feature: 8, Score: 0.34302\n",
            "Feature: 9, Score: 0.02208\n",
            "Feature: 10, Score: 0.04653\n",
            "Feature: 11, Score: 0.00000\n",
            "Feature: 12, Score: 0.00185\n",
            "Feature: 13, Score: 0.00000\n",
            "Feature: 14, Score: 0.00000\n",
            "Feature: 15, Score: 0.00000\n",
            "Feature: 16, Score: 0.00000\n",
            "Feature: 17, Score: 0.02205\n",
            "Feature: 18, Score: 0.00000\n",
            "Feature: 19, Score: 0.21096\n",
            "Feature: 20, Score: 0.18034\n",
            "Feature: 21, Score: 0.02706\n"
          ],
          "name": "stdout"
        },
        {
          "output_type": "display_data",
          "data": {
            "image/png": "[encoded data removed]",
            "text/plain": [
              "<Figure size 432x288 with 1 Axes>"
            ]
          },
          "metadata": {
            "tags": [],
            "needs_background": "light"
          }
        }
      ]
    },
    {
      "cell_type": "code",
      "metadata": {
        "id": "2SBlT8yr-cub",
        "colab": {
          "base_uri": "https://localhost:8080/",
          "height": 1000
        },
        "outputId": "e8220137-cf3f-4be1-f0fe-36dbdc0ba23c"
      },
      "source": [
        "for i in range(0, len(X[0])):\n",
        "#     X_curr = data.iloc[:,0:i].values + data.iloc[:,i+1:].values\n",
        "    X_curr = np.hstack((data.iloc[:,0:i].values,data.iloc[:,i+1:].values))\n",
        "#     X_curr = data.iloc[:,:].values\n",
        "#     X_curr[:,i] = 0\n",
        "# #     X_curr[i].values[:] = 0\n",
        "    y_curr = data.iloc[:,i].values\n",
        "    \n",
        "    X_train_curr, X_test_curr, y_train_curr, y_test_curr = train_test_split(X_curr, y_curr, test_size=0.25, random_state=42)\n",
        "    \n",
        "    tree_clf_curr = DecisionTreeClassifier(random_state=42, max_depth=7)\n",
        "    tree_clf_curr.fit(X_train_curr, y_train_curr)\n",
        "    \n",
        "    predictions_curr = tree_clf_curr.predict(X_test_curr)\n",
        "    print(\"Feature:\", i)\n",
        "    print(confusion_matrix(y_test_curr, predictions_curr))\n",
        "    print(accuracy_score(y_test_curr, predictions_curr))\n",
        "\n",
        "    # get importance\n",
        "    importance = tree_clf_curr.feature_importances_\n",
        "    # plot feature importance\n",
        "    plt.bar([x for x in range(len(importance))], importance)\n",
        "    plt.show()\n",
        "    print()"
      ],
      "execution_count": 22,
      "outputs": [
        {
          "output_type": "stream",
          "text": [
            "Feature: 0\n",
            "[[1040    0]\n",
            " [   0  991]]\n",
            "1.0\n"
          ],
          "name": "stdout"
        },
        {
          "output_type": "display_data",
          "data": {
            "image/png": "[encoded data removed]",
            "text/plain": [
              "<Figure size 432x288 with 1 Axes>"
            ]
          },
          "metadata": {
            "tags": [],
            "needs_background": "light"
          }
        },
        {
          "output_type": "stream",
          "text": [
            "\n",
            "Feature: 1\n",
            "[[ 21   1  15  28   0  67]\n",
            " [  1   0   0   0   0   0]\n",
            " [ 16   1 186  89  11 513]\n",
            " [ 12   0  71  60   0  39]\n",
            " [  0   0   0   0   8   0]\n",
            " [ 44   0 263  93  12 480]]\n",
            "0.37173806006893156\n"
          ],
          "name": "stdout"
        },
        {
          "output_type": "display_data",
          "data": {
            "image/png": "[encoded data removed]",
            "text/plain": [
              "<Figure size 432x288 with 1 Axes>"
            ]
          },
          "metadata": {
            "tags": [],
            "needs_background": "light"
          }
        },
        {
          "output_type": "stream",
          "text": [
            "\n",
            "Feature: 2\n",
            "[[316   0  86 179]\n",
            " [  0   0   0   2]\n",
            " [125   0 378 146]\n",
            " [262   0 259 278]]\n",
            "0.47858197932053176\n"
          ],
          "name": "stdout"
        },
        {
          "output_type": "display_data",
          "data": {
            "image/png": "[encoded data removed]",
            "text/plain": [
              "<Figure size 432x288 with 1 Axes>"
            ]
          },
          "metadata": {
            "tags": [],
            "needs_background": "light"
          }
        },
        {
          "output_type": "stream",
          "text": [
            "\n",
            "Feature: 3\n",
            "[[ 13   0   0   6   2   5   0   0   7   0]\n",
            " [  0   1   0   0   5   0   0   0   0   0]\n",
            " [  4   4  76  45 260   3   0   0   0   0]\n",
            " [ 29   0   0 120 174   0   0   0  42 103]\n",
            " [  4   2 149  58 282   4   0   0  42  32]\n",
            " [  4   0   0  11   5   1   0   0  12   0]\n",
            " [  0   0   0   0   0   0   0   3   2   0]\n",
            " [  0   0   0   0   0   0   1   0   1   0]\n",
            " [ 21   0   0  27  57   0   3   1  94  43]\n",
            " [  0   0   0 101   6   0   0   0  54 112]]\n",
            "0.34416543574593794\n"
          ],
          "name": "stdout"
        },
        {
          "output_type": "display_data",
          "data": {
            "image/png": "[encoded data removed]",
            "text/plain": [
              "<Figure size 432x288 with 1 Axes>"
            ]
          },
          "metadata": {
            "tags": [],
            "needs_background": "light"
          }
        },
        {
          "output_type": "stream",
          "text": [
            "\n",
            "Feature: 4\n",
            "[[1193    0]\n",
            " [   0  838]]\n",
            "1.0\n"
          ],
          "name": "stdout"
        },
        {
          "output_type": "display_data",
          "data": {
            "image/png": "[encoded data removed]",
            "text/plain": [
              "<Figure size 432x288 with 1 Axes>"
            ]
          },
          "metadata": {
            "tags": [],
            "needs_background": "light"
          }
        },
        {
          "output_type": "stream",
          "text": [
            "\n",
            "Feature: 5\n",
            "[[ 50   0   0  53   0   0   0   0   0]\n",
            " [  0  43   0   0   0   0   0   0   0]\n",
            " [  0   0 462   0   0   0   0  64  19]\n",
            " [ 94   0   0  17   0   0   0   0   0]\n",
            " [  0   0   0   0   7   0   0   0   0]\n",
            " [  0   0   0   0   0 856   0   0   0]\n",
            " [  0   0   0   0   0   0  76   0   0]\n",
            " [  0   0  90   0   0   0   0  31  14]\n",
            " [  0   0  86   0   0   0   0  61   8]]\n",
            "0.7631708517971443\n"
          ],
          "name": "stdout"
        },
        {
          "output_type": "display_data",
          "data": {
            "image/png": "[encoded data removed]",
            "text/plain": [
              "<Figure size 432x288 with 1 Axes>"
            ]
          },
          "metadata": {
            "tags": [],
            "needs_background": "light"
          }
        },
        {
          "output_type": "stream",
          "text": [
            "\n",
            "Feature: 6\n",
            "[[  52    2]\n",
            " [   4 1973]]\n",
            "0.9970457902511078\n"
          ],
          "name": "stdout"
        },
        {
          "output_type": "display_data",
          "data": {
            "image/png": "[encoded data removed]",
            "text/plain": [
              "<Figure size 432x288 with 1 Axes>"
            ]
          },
          "metadata": {
            "tags": [],
            "needs_background": "light"
          }
        },
        {
          "output_type": "stream",
          "text": [
            "\n",
            "Feature: 7\n",
            "[[1689   14]\n",
            " [  23  305]]\n",
            "0.9817823732151649\n"
          ],
          "name": "stdout"
        },
        {
          "output_type": "display_data",
          "data": {
            "image/png": "[encoded data removed]",
            "text/plain": [
              "<Figure size 432x288 with 1 Axes>"
            ]
          },
          "metadata": {
            "tags": [],
            "needs_background": "light"
          }
        },
        {
          "output_type": "stream",
          "text": [
            "\n",
            "Feature: 8\n",
            "[[1383    0]\n",
            " [  17  631]]\n",
            "0.9916297390448056\n"
          ],
          "name": "stdout"
        },
        {
          "output_type": "display_data",
          "data": {
            "image/png": "[encoded data removed]",
            "text/plain": [
              "<Figure size 432x288 with 1 Axes>"
            ]
          },
          "metadata": {
            "tags": [],
            "needs_background": "light"
          }
        },
        {
          "output_type": "stream",
          "text": [
            "\n",
            "Feature: 9\n",
            "[[430   0   0   0   0   0   0   0   0   0   0   0]\n",
            " [  0   5   0   0   0   0   0   0   0   0  15   0]\n",
            " [  0   0  38  37   3   7   0  60   0   3  51   0]\n",
            " [  0   0  41  34  11  21   0  77   0   0  12   0]\n",
            " [  0   0   0  22   4  51   0   5   0   0  35   0]\n",
            " [  0   0   6  23  15  51   6   9   0  55  70   2]\n",
            " [  0   0   0   0   0  17   2   0   0   0   0   2]\n",
            " [  0   0  60  60  12 107   0  31   0  55  68   0]\n",
            " [  0   0   0   0   0   0   0   0   0   0   7   0]\n",
            " [  0   0  10   1   0  26   0   1   0  34  47   0]\n",
            " [  0   8   6  10   0  65   0  24   0  36 115   4]\n",
            " [  0   0   0   0   0  13   8   0   0   0   3   0]]\n",
            "0.3663220088626292\n"
          ],
          "name": "stdout"
        },
        {
          "output_type": "display_data",
          "data": {
            "image/png": "[encoded data removed]",
            "text/plain": [
              "<Figure size 432x288 with 1 Axes>"
            ]
          },
          "metadata": {
            "tags": [],
            "needs_background": "light"
          }
        },
        {
          "output_type": "stream",
          "text": [
            "\n",
            "Feature: 10\n",
            "[[ 863   36]\n",
            " [   0 1132]]\n",
            "0.982274741506647\n"
          ],
          "name": "stdout"
        },
        {
          "output_type": "display_data",
          "data": {
            "image/png": "[encoded data removed]",
            "text/plain": [
              "<Figure size 432x288 with 1 Axes>"
            ]
          },
          "metadata": {
            "tags": [],
            "needs_background": "light"
          }
        },
        {
          "output_type": "stream",
          "text": [
            "\n",
            "Feature: 11\n",
            "[[615   0   0   0   0]\n",
            " [  0 910   0  22   0]\n",
            " [  0   0 141   0   0]\n",
            " [  0   0   0 293   0]\n",
            " [  0   0   0   0  50]]\n",
            "0.9891678975873953\n"
          ],
          "name": "stdout"
        },
        {
          "output_type": "display_data",
          "data": {
            "image/png": "[encoded data removed]",
            "text/plain": [
              "<Figure size 432x288 with 1 Axes>"
            ]
          },
          "metadata": {
            "tags": [],
            "needs_background": "light"
          }
        },
        {
          "output_type": "stream",
          "text": [
            "\n",
            "Feature: 12\n",
            "[[  37    0  100    0]\n",
            " [   0  515   75    0]\n",
            " [  73  220 1005    0]\n",
            " [   0    0    0    6]]\n",
            "0.7695716395864106\n"
          ],
          "name": "stdout"
        },
        {
          "output_type": "display_data",
          "data": {
            "image/png": "[encoded data removed]",
            "text/plain": [
              "<Figure size 432x288 with 1 Axes>"
            ]
          },
          "metadata": {
            "tags": [],
            "needs_background": "light"
          }
        },
        {
          "output_type": "stream",
          "text": [
            "\n",
            "Feature: 13\n",
            "[[ 47   0  97   0]\n",
            " [  0 446 136   0]\n",
            " [ 69 185 977   0]\n",
            " [  0   0   5  69]]\n",
            "0.757754800590842\n"
          ],
          "name": "stdout"
        },
        {
          "output_type": "display_data",
          "data": {
            "image/png": "[encoded data removed]",
            "text/plain": [
              "<Figure size 432x288 with 1 Axes>"
            ]
          },
          "metadata": {
            "tags": [],
            "needs_background": "light"
          }
        },
        {
          "output_type": "stream",
          "text": [
            "\n",
            "Feature: 14\n",
            "[[ 23   0   0   0  47   0  36   0   0]\n",
            " [  0   7   0   0   0   0   0   0   0]\n",
            " [  0   0   7   0   0   0   0  12   0]\n",
            " [  0   0   0  31   0   0  22  82   0]\n",
            " [ 49   0   0   0  30   0  34   0   0]\n",
            " [  0   0   0   0   0  51   0   0   0]\n",
            " [ 49   0   0  41  48   0  90 252   0]\n",
            " [  0   0  15  49   0   0 142 913   0]\n",
            " [  0   0   0   0   0   0   0   0   1]]\n",
            "0.567700640078779\n"
          ],
          "name": "stdout"
        },
        {
          "output_type": "display_data",
          "data": {
            "image/png": "[encoded data removed]",
            "text/plain": [
              "<Figure size 432x288 with 1 Axes>"
            ]
          },
          "metadata": {
            "tags": [],
            "needs_background": "light"
          }
        },
        {
          "output_type": "stream",
          "text": [
            "\n",
            "Feature: 15\n",
            "[[ 46   0   0   0  12   0  45   0   0]\n",
            " [  0   7   0   0   0   0   0   0   0]\n",
            " [  0   0   5   0   0   0   0  13   0]\n",
            " [  0   0   0  29   0   0  71  44   0]\n",
            " [ 77   0   0   0  27   0  34   0   4]\n",
            " [  0   0   0   0   0  51   0   0   0]\n",
            " [ 59   0   0  58  18   0 163 157   0]\n",
            " [  0   0  13  47   0   0 236 808   0]\n",
            " [  0   0   0   0   5   0   0   0   2]]\n",
            "0.5603151157065485\n"
          ],
          "name": "stdout"
        },
        {
          "output_type": "display_data",
          "data": {
            "image/png": "[encoded data removed]",
            "text/plain": [
              "<Figure size 432x288 with 1 Axes>"
            ]
          },
          "metadata": {
            "tags": [],
            "needs_background": "light"
          }
        },
        {
          "output_type": "stream",
          "text": [
            "\n",
            "Feature: 16\n",
            "[[2031]]\n",
            "1.0\n"
          ],
          "name": "stdout"
        },
        {
          "output_type": "display_data",
          "data": {
            "image/png": "[encoded data removed]",
            "text/plain": [
              "<Figure size 432x288 with 1 Axes>"
            ]
          },
          "metadata": {
            "tags": [],
            "needs_background": "light"
          }
        },
        {
          "output_type": "stream",
          "text": [
            "\n",
            "Feature: 17\n",
            "[[   5   15    0    0]\n",
            " [  26    5    0    0]\n",
            " [   0    0 1979    0]\n",
            " [   0    0    0    1]]\n",
            "0.9798129000492368\n"
          ],
          "name": "stdout"
        },
        {
          "output_type": "display_data",
          "data": {
            "image/png": "[encoded data removed]",
            "text/plain": [
              "<Figure size 432x288 with 1 Axes>"
            ]
          },
          "metadata": {
            "tags": [],
            "needs_background": "light"
          }
        },
        {
          "output_type": "stream",
          "text": [
            "\n",
            "Feature: 18\n",
            "[[   7    0    0]\n",
            " [   0 1883    0]\n",
            " [   0    0  141]]\n",
            "1.0\n"
          ],
          "name": "stdout"
        },
        {
          "output_type": "display_data",
          "data": {
            "image/png": "[encoded data removed]",
            "text/plain": [
              "<Figure size 432x288 with 1 Axes>"
            ]
          },
          "metadata": {
            "tags": [],
            "needs_background": "light"
          }
        },
        {
          "output_type": "stream",
          "text": [
            "\n",
            "Feature: 19\n",
            "[[ 677    0    0    0    0]\n",
            " [   0   11    0    0    0]\n",
            " [   0    0  330    0    0]\n",
            " [   0    0    0    7    0]\n",
            " [   0    0    0    0 1006]]\n",
            "1.0\n"
          ],
          "name": "stdout"
        },
        {
          "output_type": "display_data",
          "data": {
            "image/png": "[encoded data removed]",
            "text/plain": [
              "<Figure size 432x288 with 1 Axes>"
            ]
          },
          "metadata": {
            "tags": [],
            "needs_background": "light"
          }
        },
        {
          "output_type": "stream",
          "text": [
            "\n",
            "Feature: 20\n",
            "[[  0   0   0  10   3   0   0   0   1]\n",
            " [  0 416   0   0   0   0   0   0   0]\n",
            " [  0   0 153 320   0   0   0   0   0]\n",
            " [  7   0 201 269   3   0   0   0   2]\n",
            " [  5   0   0   4   0   0   0   0   1]\n",
            " [  0   0   0   0   0  16   0   0   0]\n",
            " [  0   0   0  17   0   0   0   0   0]\n",
            " [  0   0   0   0   0   0   0 588   0]\n",
            " [  8   0   0   6   1   0   0   0   0]]\n",
            "0.7099950763170851\n"
          ],
          "name": "stdout"
        },
        {
          "output_type": "display_data",
          "data": {
            "image/png": "[encoded data removed]",
            "text/plain": [
              "<Figure size 432x288 with 1 Axes>"
            ]
          },
          "metadata": {
            "tags": [],
            "needs_background": "light"
          }
        },
        {
          "output_type": "stream",
          "text": [
            "\n",
            "Feature: 21\n",
            "[[ 35   0   0  58   0   0]\n",
            " [  0  62   0   0  12   0]\n",
            " [  0   0  34  69   0   0]\n",
            " [ 73   0  58 103  77  20]\n",
            " [  0  19   0  52 539 416]\n",
            " [  0   0   0  15  20 369]]\n",
            "0.5622845888724766\n"
          ],
          "name": "stdout"
        },
        {
          "output_type": "display_data",
          "data": {
            "image/png": "[encoded data removed]",
            "text/plain": [
              "<Figure size 432x288 with 1 Axes>"
            ]
          },
          "metadata": {
            "tags": [],
            "needs_background": "light"
          }
        },
        {
          "output_type": "stream",
          "text": [
            "\n"
          ],
          "name": "stdout"
        }
      ]
    },
    {
      "cell_type": "markdown",
      "metadata": {
        "id": "GyW8RCTB-cue"
      },
      "source": [
        "# Multiclass Classification"
      ]
    },
    {
      "cell_type": "markdown",
      "metadata": {
        "id": "7VYCRGKr-cuf"
      },
      "source": [
        "### Image preparation:"
      ]
    },
    {
      "cell_type": "code",
      "metadata": {
        "id": "NW9Uykom-cuf"
      },
      "source": [
        "## Source: https://www.youtube.com/watch?v=j-3vuBynnOE"
      ],
      "execution_count": null,
      "outputs": []
    },
    {
      "cell_type": "code",
      "metadata": {
        "id": "lgCInGyt-cuf"
      },
      "source": [
        "import numpy as np\n",
        "import matplotlib.pyplot as plt\n",
        "import os\n",
        "import cv2 ## Open Anaconda Prompt and enter \"pip install opencv-python\"\n",
        "\n",
        "## Make sure to put an \"r\" in fron of the your directory if you get a unicode error.\n",
        "DATADIR =  r\"C:\\Users\\Lael\\PH482\\PH482_582\\Machine Learning Final Project - Copy\\Mushrooms\"\n",
        "CATEGORIES = [\"Agaricus\", \"Amanita\", \"Boletus\", \"Cortinarius\", \"Entoloma\", \"Hygrocybe\", \"Lactarius\", \"Russula\", \"Suillus\"]\n",
        "\n",
        "for category in CATEGORIES:\n",
        "    path = os.path.join(DATADIR, category) # Path to cats or dogs directory\n",
        "    for img in os.listdir(path):\n",
        "        img_array = cv2.imread(os.path.join(path, img)) ## If color is not important, instead use img_array = cv2.imread(os.path.join(path, img), cv2.IMREAD_GREYSCALE)\n",
        "        plt.imshow(img_array) ## If color is not important, instead use plt.imshow(img_array, cmap=\"gray\")\n",
        "        plt.show()\n",
        "        break\n",
        "    break\n",
        "        "
      ],
      "execution_count": null,
      "outputs": []
    },
    {
      "cell_type": "code",
      "metadata": {
        "scrolled": false,
        "id": "XrjxF9rG-cuf",
        "outputId": "0210f8a8-b86d-4b54-e83e-46de480b9f6d"
      },
      "source": [
        "print(img_array.shape)"
      ],
      "execution_count": null,
      "outputs": [
        {
          "output_type": "stream",
          "text": [
            "(600, 778, 3)\n"
          ],
          "name": "stdout"
        }
      ]
    },
    {
      "cell_type": "code",
      "metadata": {
        "id": "cYyJw2hy-cug",
        "outputId": "9ace1f68-af0f-49a7-dd02-7ca298eaae6f"
      },
      "source": [
        "IMG_SIZE = 50\n",
        "\n",
        "new_array = cv2.resize(img_array, (IMG_SIZE, IMG_SIZE))\n",
        "plt.imshow(new_array) ## If color is not important, instead use plt.imshow(new_array, cmap=\"gray\")\n",
        "plt.show()"
      ],
      "execution_count": null,
      "outputs": [
        {
          "output_type": "display_data",
          "data": {
            "image/png": "[encoded data removed]",
            "text/plain": [
              "<Figure size 432x288 with 1 Axes>"
            ]
          },
          "metadata": {
            "tags": [],
            "needs_background": "light"
          }
        }
      ]
    },
    {
      "cell_type": "code",
      "metadata": {
        "id": "tRx8mIp5-cug"
      },
      "source": [
        "training_data = []\n",
        "\n",
        "def create_training_data():\n",
        "    for category in CATEGORIES:\n",
        "        path = os.path.join(DATADIR, category) # Path to cats or dogs directory\n",
        "        class_num = CATEGORIES.index(category)\n",
        "        for img in os.listdir(path):\n",
        "            try:\n",
        "                img_array = cv2.imread(os.path.join(path, img)) # If color is not important, instead use img_array = cv2.imread(os.path.join(path, img), cv2.IMREAD_GREYSCALE)\n",
        "                new_array = cv2.resize(img_array, (IMG_SIZE, IMG_SIZE))\n",
        "                training_data.append([new_array, class_num])\n",
        "            except Exception as e:\n",
        "                pass\n",
        "    \n",
        "create_training_data()\n",
        "    "
      ],
      "execution_count": null,
      "outputs": []
    },
    {
      "cell_type": "code",
      "metadata": {
        "id": "rRqjxMzt-cug",
        "outputId": "96d22284-1a93-46a8-cf30-74169c4c2bc4"
      },
      "source": [
        "print(len(training_data))"
      ],
      "execution_count": null,
      "outputs": [
        {
          "output_type": "stream",
          "text": [
            "6714\n"
          ],
          "name": "stdout"
        }
      ]
    },
    {
      "cell_type": "code",
      "metadata": {
        "id": "h9BVXDrr-cug"
      },
      "source": [
        "import random\n",
        "\n",
        "random.shuffle(training_data)"
      ],
      "execution_count": null,
      "outputs": []
    },
    {
      "cell_type": "code",
      "metadata": {
        "scrolled": true,
        "id": "YyYUgPGJ-cuh",
        "outputId": "653bc906-e59b-465f-c9bf-1e1cbcd154d4"
      },
      "source": [
        "for sample in training_data[:10]:\n",
        "    print(sample[1])"
      ],
      "execution_count": null,
      "outputs": [
        {
          "output_type": "stream",
          "text": [
            "6\n",
            "6\n",
            "6\n",
            "7\n",
            "7\n",
            "3\n",
            "6\n",
            "1\n",
            "7\n",
            "3\n"
          ],
          "name": "stdout"
        }
      ]
    },
    {
      "cell_type": "code",
      "metadata": {
        "id": "3CyILpFy-cuh"
      },
      "source": [
        "X = []\n",
        "y = []"
      ],
      "execution_count": null,
      "outputs": []
    },
    {
      "cell_type": "code",
      "metadata": {
        "id": "vOKLh6E4-cuh"
      },
      "source": [
        "for features, label in training_data:\n",
        "    X.append(features)\n",
        "    y.append(label)\n",
        "    \n",
        "X = np.array(X).reshape(-1, IMG_SIZE, IMG_SIZE, 3)"
      ],
      "execution_count": null,
      "outputs": []
    },
    {
      "cell_type": "code",
      "metadata": {
        "id": "jLhdtfSW-cuh"
      },
      "source": [
        "import pickle\n",
        "\n",
        "pickle_out = open(\"X.pickle\", \"wb\")\n",
        "pickle.dump(X, pickle_out)\n",
        "pickle_out.close()\n",
        "\n",
        "pickle_out = open(\"y.pickle\", \"wb\")\n",
        "pickle.dump(y, pickle_out)\n",
        "pickle_out.close()"
      ],
      "execution_count": null,
      "outputs": []
    },
    {
      "cell_type": "code",
      "metadata": {
        "id": "2_rR7dbf-cuh"
      },
      "source": [
        "pickle_in = open(\"X.pickle\", \"rb\")\n",
        "X = pickle.load(pickle_in)"
      ],
      "execution_count": null,
      "outputs": []
    },
    {
      "cell_type": "code",
      "metadata": {
        "id": "VkvBu7ku-cuh",
        "outputId": "707cd312-5d60-40de-a163-379ab637b2e7"
      },
      "source": [
        "X[1]"
      ],
      "execution_count": null,
      "outputs": [
        {
          "output_type": "execute_result",
          "data": {
            "text/plain": [
              "array([[[128,  95,  84],\n",
              "        [157, 146, 138],\n",
              "        [ 15,   8,   4],\n",
              "        ...,\n",
              "        [177, 161, 160],\n",
              "        [138, 114, 122],\n",
              "        [ 69,  97,  85]],\n",
              "\n",
              "       [[162, 110,  84],\n",
              "        [ 65,  66,  55],\n",
              "        [144, 123, 111],\n",
              "        ...,\n",
              "        [ 43,  16,  11],\n",
              "        [103,  91, 102],\n",
              "        [ 19,  11,  10]],\n",
              "\n",
              "       [[ 74,  42,  39],\n",
              "        [150, 110,  81],\n",
              "        [123, 116, 103],\n",
              "        ...,\n",
              "        [142, 124, 134],\n",
              "        [ 72,  90,  57],\n",
              "        [ 35,  83,  44]],\n",
              "\n",
              "       ...,\n",
              "\n",
              "       [[ 98,  77,  76],\n",
              "        [ 99,  77,  79],\n",
              "        [ 71,  64,  71],\n",
              "        ...,\n",
              "        [ 50, 187,  94],\n",
              "        [ 37, 140,  60],\n",
              "        [ 91, 212, 126]],\n",
              "\n",
              "       [[101,  90,  95],\n",
              "        [ 79,  72,  79],\n",
              "        [ 72,  59,  61],\n",
              "        ...,\n",
              "        [186, 211, 138],\n",
              "        [ 41, 132,  62],\n",
              "        [ 73, 214, 119]],\n",
              "\n",
              "       [[ 95,  89,  95],\n",
              "        [ 70,  63,  67],\n",
              "        [ 78,  66,  60],\n",
              "        ...,\n",
              "        [ 88, 155,  80],\n",
              "        [ 60, 194, 111],\n",
              "        [ 26, 117,  39]]], dtype=uint8)"
            ]
          },
          "metadata": {
            "tags": []
          },
          "execution_count": 32
        }
      ]
    },
    {
      "cell_type": "code",
      "metadata": {
        "scrolled": true,
        "id": "1z-86dBr-cui",
        "outputId": "44b3c9e6-912a-464d-af36-a64588691df4"
      },
      "source": [
        "a=0\n",
        "b=0\n",
        "c=0\n",
        "d=0\n",
        "e=0\n",
        "f=0\n",
        "g=0\n",
        "h=0\n",
        "i=0\n",
        "for j in range(len(y)):\n",
        "    if y[j]==0:\n",
        "        a=a+1\n",
        "    elif y[j]==1:\n",
        "        b=b+1\n",
        "    elif y[j]==2:\n",
        "        c=c+1\n",
        "    elif y[j]==3:\n",
        "        d=d+1\n",
        "    elif y[j]==4:\n",
        "        e=e+1\n",
        "    elif y[j]==5:\n",
        "        f=f+1\n",
        "    elif y[j]==6:\n",
        "        g=g+1\n",
        "    elif y[j]==7:\n",
        "        h=h+1\n",
        "    elif y[j]==8:\n",
        "        i=i+1\n",
        "print(a, \" \", b, \" \", c, \" \", d, \" \", e, \" \", f, \" \", g, \" \", h, \" \", i)\n",
        "print(a+b+c+d+e+f+g+h+i)\n",
        "print(len(y))\n",
        "print(a/len(y), \" \", b/len(y), \" \", c/len(y), \" \", d/len(y), \" \", e/len(y), \" \", f/len(y), \" \", g/len(y), \" \", h/len(y), \" \", i/len(y))\n",
        "weights = np.ones_like(y) / len(y)\n",
        "plt.clf()\n",
        "plt.hist(y, weights=weights, bins=50, color='r')\n",
        "plt.show()"
      ],
      "execution_count": null,
      "outputs": [
        {
          "output_type": "stream",
          "text": [
            "353   750   1073   836   364   316   1563   1148   311\n",
            "6714\n",
            "6714\n",
            "0.0525767053917188   0.11170688114387846   0.1598153112898421   0.12451593684837653   0.05421507298182902   0.04706583258862079   0.23279714030384271   0.17098599940422995   0.046321120047661604\n"
          ],
          "name": "stdout"
        },
        {
          "output_type": "display_data",
          "data": {
            "image/png": "[encoded data removed]",
            "text/plain": [
              "<Figure size 432x288 with 1 Axes>"
            ]
          },
          "metadata": {
            "tags": [],
            "needs_background": "light"
          }
        }
      ]
    },
    {
      "cell_type": "code",
      "metadata": {
        "id": "d9U_rvSE-cui"
      },
      "source": [
        "# Above plot: shows percentage of mushrooms types"
      ],
      "execution_count": null,
      "outputs": []
    },
    {
      "cell_type": "markdown",
      "metadata": {
        "id": "k1eoEK2s-cui"
      },
      "source": [
        "## ConvNet:"
      ]
    },
    {
      "cell_type": "code",
      "metadata": {
        "id": "RL9JGViC-cui"
      },
      "source": [
        "X = pickle.load(open(\"X.pickle\", \"rb\"))\n",
        "y = pickle.load(open(\"y.pickle\", \"rb\"))\n",
        "\n",
        "X = X/255.0"
      ],
      "execution_count": null,
      "outputs": []
    },
    {
      "cell_type": "code",
      "metadata": {
        "id": "Gsafr9KP-cui"
      },
      "source": [
        "X = np.array(X)\n",
        "y = np.array(y)\n",
        "\n",
        "from tensorflow.python.keras.utils.np_utils import to_categorical\n",
        "y = to_categorical(y)\n",
        "\n",
        "X_train, X_test, y_train, y_test = train_test_split(X, y, test_size=0.20, random_state=42)"
      ],
      "execution_count": null,
      "outputs": []
    },
    {
      "cell_type": "code",
      "metadata": {
        "scrolled": true,
        "id": "DkOeRb4h-cuj"
      },
      "source": [
        "from tensorflow.keras import regularizers"
      ],
      "execution_count": null,
      "outputs": []
    },
    {
      "cell_type": "code",
      "metadata": {
        "scrolled": true,
        "id": "umg2TGzF-cuj",
        "outputId": "25ac4968-e64b-45b9-c108-7af8f3c6de79"
      },
      "source": [
        "import tensorflow as tf\n",
        "from tensorflow.python.keras.engine.sequential import Sequential\n",
        "from tensorflow.keras.layers import Dense, Dropout, Activation, Flatten, Conv2D, MaxPooling2D\n",
        "import pickle\n",
        "\n",
        "\n",
        "model = Sequential()\n",
        "model.add(Conv2D(64, (3,3), input_shape = X.shape[1:]))\n",
        "model.add(Activation(\"relu\"))\n",
        "model.add(MaxPooling2D(pool_size=(2,2)))\n",
        "\n",
        "#model = Sequential()\n",
        "#model.add( Conv2D(64, (3,3)) )\n",
        "#model.add(Activation(\"relu\"))\n",
        "#model.add(MaxPooling2D(pool_size=(2,2)))\n",
        "\n",
        "model.add(Flatten())\n",
        "model.add(Dense(64))\n",
        "\n",
        "model.add(Dense(9))\n",
        "model.add(Activation(\"softmax\"))\n",
        "\n",
        "model.compile(loss=\"categorical_crossentropy\", optimizer=\"adam\", metrics=['accuracy'])\n",
        "\n"
      ],
      "execution_count": null,
      "outputs": [
        {
          "output_type": "error",
          "ename": "NameError",
          "evalue": "name 'X' is not defined",
          "traceback": [
            "\u001b[1;31m---------------------------------------------------------------------------\u001b[0m",
            "\u001b[1;31mNameError\u001b[0m                                 Traceback (most recent call last)",
            "\u001b[1;32m<ipython-input-13-1383311035f0>\u001b[0m in \u001b[0;36m<module>\u001b[1;34m\u001b[0m\n\u001b[0;32m      7\u001b[0m \u001b[1;33m\u001b[0m\u001b[0m\n\u001b[0;32m      8\u001b[0m \u001b[0mmodel\u001b[0m \u001b[1;33m=\u001b[0m \u001b[0mSequential\u001b[0m\u001b[1;33m(\u001b[0m\u001b[1;33m)\u001b[0m\u001b[1;33m\u001b[0m\u001b[1;33m\u001b[0m\u001b[0m\n\u001b[1;32m----> 9\u001b[1;33m \u001b[0mmodel\u001b[0m\u001b[1;33m.\u001b[0m\u001b[0madd\u001b[0m\u001b[1;33m(\u001b[0m\u001b[0mConv2D\u001b[0m\u001b[1;33m(\u001b[0m\u001b[1;36m64\u001b[0m\u001b[1;33m,\u001b[0m \u001b[1;33m(\u001b[0m\u001b[1;36m3\u001b[0m\u001b[1;33m,\u001b[0m\u001b[1;36m3\u001b[0m\u001b[1;33m)\u001b[0m\u001b[1;33m,\u001b[0m \u001b[0minput_shape\u001b[0m \u001b[1;33m=\u001b[0m \u001b[0mX\u001b[0m\u001b[1;33m.\u001b[0m\u001b[0mshape\u001b[0m\u001b[1;33m[\u001b[0m\u001b[1;36m1\u001b[0m\u001b[1;33m:\u001b[0m\u001b[1;33m]\u001b[0m\u001b[1;33m)\u001b[0m\u001b[1;33m)\u001b[0m\u001b[1;33m\u001b[0m\u001b[1;33m\u001b[0m\u001b[0m\n\u001b[0m\u001b[0;32m     10\u001b[0m \u001b[0mmodel\u001b[0m\u001b[1;33m.\u001b[0m\u001b[0madd\u001b[0m\u001b[1;33m(\u001b[0m\u001b[0mActivation\u001b[0m\u001b[1;33m(\u001b[0m\u001b[1;34m\"relu\"\u001b[0m\u001b[1;33m)\u001b[0m\u001b[1;33m)\u001b[0m\u001b[1;33m\u001b[0m\u001b[1;33m\u001b[0m\u001b[0m\n\u001b[0;32m     11\u001b[0m \u001b[0mmodel\u001b[0m\u001b[1;33m.\u001b[0m\u001b[0madd\u001b[0m\u001b[1;33m(\u001b[0m\u001b[0mMaxPooling2D\u001b[0m\u001b[1;33m(\u001b[0m\u001b[0mpool_size\u001b[0m\u001b[1;33m=\u001b[0m\u001b[1;33m(\u001b[0m\u001b[1;36m2\u001b[0m\u001b[1;33m,\u001b[0m\u001b[1;36m2\u001b[0m\u001b[1;33m)\u001b[0m\u001b[1;33m)\u001b[0m\u001b[1;33m)\u001b[0m\u001b[1;33m\u001b[0m\u001b[1;33m\u001b[0m\u001b[0m\n",
            "\u001b[1;31mNameError\u001b[0m: name 'X' is not defined"
          ]
        }
      ]
    },
    {
      "cell_type": "code",
      "metadata": {
        "scrolled": true,
        "id": "rd0nyOLT-cuj",
        "outputId": "1c8352f5-6647-48ab-cb56-0181ed91564f"
      },
      "source": [
        "model.fit(X_train, y_train, batch_size=32, epochs=10, validation_split=0.1)"
      ],
      "execution_count": null,
      "outputs": [
        {
          "output_type": "stream",
          "text": [
            "Train on 4833 samples, validate on 538 samples\n",
            "Epoch 1/10\n",
            "4833/4833 [==============================] - 7s 1ms/sample - loss: 2.3270 - accuracy: 0.2533 - val_loss: 1.8244 - val_accuracy: 0.3457\n",
            "Epoch 2/10\n",
            "4833/4833 [==============================] - 7s 1ms/sample - loss: 1.6016 - accuracy: 0.4384 - val_loss: 1.7637 - val_accuracy: 0.3755\n",
            "Epoch 3/10\n",
            "4833/4833 [==============================] - 7s 1ms/sample - loss: 1.1124 - accuracy: 0.6398 - val_loss: 1.8483 - val_accuracy: 0.3680\n",
            "Epoch 4/10\n",
            "4833/4833 [==============================] - 7s 1ms/sample - loss: 0.6474 - accuracy: 0.8057 - val_loss: 2.0165 - val_accuracy: 0.3643\n",
            "Epoch 5/10\n",
            "4833/4833 [==============================] - 8s 2ms/sample - loss: 0.2771 - accuracy: 0.9419 - val_loss: 2.4407 - val_accuracy: 0.3810\n",
            "Epoch 6/10\n",
            "4833/4833 [==============================] - 8s 2ms/sample - loss: 0.1217 - accuracy: 0.9832 - val_loss: 2.6964 - val_accuracy: 0.3532\n",
            "Epoch 7/10\n",
            "4833/4833 [==============================] - 7s 1ms/sample - loss: 0.0528 - accuracy: 0.9948 - val_loss: 2.9511 - val_accuracy: 0.3625\n",
            "Epoch 8/10\n",
            "4833/4833 [==============================] - 7s 1ms/sample - loss: 0.0251 - accuracy: 0.9986 - val_loss: 3.2295 - val_accuracy: 0.3494\n",
            "Epoch 9/10\n",
            "4833/4833 [==============================] - 7s 2ms/sample - loss: 0.0154 - accuracy: 0.9990 - val_loss: 3.3579 - val_accuracy: 0.3569\n",
            "Epoch 10/10\n",
            "4833/4833 [==============================] - 7s 2ms/sample - loss: 0.0100 - accuracy: 0.9992 - val_loss: 3.5532 - val_accuracy: 0.3569\n"
          ],
          "name": "stdout"
        },
        {
          "output_type": "execute_result",
          "data": {
            "text/plain": [
              "<tensorflow.python.keras.callbacks.History at 0x28337321c88>"
            ]
          },
          "metadata": {
            "tags": []
          },
          "execution_count": 138
        }
      ]
    },
    {
      "cell_type": "code",
      "metadata": {
        "scrolled": true,
        "id": "JNhU4K7B-cuj"
      },
      "source": [
        "y_pred = model.predict(X_test)"
      ],
      "execution_count": null,
      "outputs": []
    },
    {
      "cell_type": "code",
      "metadata": {
        "id": "0f-3nTky-cul"
      },
      "source": [
        "## Confusion Matrix:\n",
        "## Source: https://www.youtube.com/watch?v=km7pxKy4UHU\n",
        "rounded_predictions = model.predict_classes(X_test, batch_size=10, verbose=0)\n",
        "%matplotlib inline\n",
        "from sklearn.metrics import confusion_matrix\n",
        "import itertools\n",
        "import matplotlib.pyplot as plt\n",
        "for i in rounded_predictions:\n",
        "    print(i)"
      ],
      "execution_count": null,
      "outputs": []
    },
    {
      "cell_type": "code",
      "metadata": {
        "scrolled": true,
        "id": "BjBFDTIb-cul"
      },
      "source": [
        "cm = confusion_matrix(y_test.argmax(axis=1), rounded_predictions)\n",
        "def plot_confusion_matrix(cm, classes,\n",
        "                        normalize=True,\n",
        "                        title='Confusion matrix',\n",
        "                        cmap=plt.cm.Blues):\n",
        "    \"\"\"\n",
        "    This function prints and plots the confusion matrix.\n",
        "    Normalization can be applied by setting `normalize=True`.\n",
        "    \"\"\"\n",
        "    plt.imshow(cm, interpolation='nearest', cmap=cmap)\n",
        "    plt.title(title)\n",
        "    plt.colorbar(ticks=[0,1])\n",
        "    tick_marks = np.arange(len(classes))\n",
        "    plt.xticks(tick_marks, classes, rotation=45)\n",
        "    plt.yticks(tick_marks, classes)\n",
        "    if normalize:\n",
        "        cm = np.around(cm.astype('float') / cm.sum(axis=1)[:, np.newaxis], decimals=1)\n",
        "        print(\"Normalized confusion matrix\")\n",
        "    else:\n",
        "        print('Confusion matrix, without normalization')\n",
        "    print(cm)\n",
        "    thresh = cm.max() / 2.\n",
        "    for i, j in itertools.product(range(cm.shape[0]), range(cm.shape[1])):\n",
        "        plt.text(j, i, cm[i, j],\n",
        "            horizontalalignment=\"center\",\n",
        "            color=\"white\" if cm[i, j] > thresh else \"black\")\n",
        "    plt.tight_layout()\n",
        "    plt.ylabel('True label')\n",
        "    plt.xlabel('Predicted label')"
      ],
      "execution_count": null,
      "outputs": []
    },
    {
      "cell_type": "code",
      "metadata": {
        "scrolled": true,
        "id": "SK11RDgg-cul",
        "outputId": "5f8b5cbb-ff65-4bea-d05a-54e98bb05052"
      },
      "source": [
        "plot_confusion_matrix(cm, CATEGORIES, title='Normalized Confusion Matrix')"
      ],
      "execution_count": null,
      "outputs": [
        {
          "output_type": "stream",
          "text": [
            "Normalized confusion matrix\n",
            "[[0.2 0.1 0.  0.  0.  0.  0.4 0.2 0. ]\n",
            " [0.  0.3 0.1 0.1 0.  0.  0.2 0.2 0. ]\n",
            " [0.  0.1 0.5 0.1 0.  0.  0.2 0.1 0. ]\n",
            " [0.  0.1 0.2 0.2 0.  0.  0.3 0.1 0. ]\n",
            " [0.1 0.1 0.1 0.1 0.2 0.  0.3 0.2 0. ]\n",
            " [0.  0.  0.1 0.1 0.1 0.3 0.3 0.1 0. ]\n",
            " [0.  0.1 0.1 0.1 0.  0.  0.5 0.2 0. ]\n",
            " [0.  0.1 0.1 0.1 0.  0.  0.3 0.3 0. ]\n",
            " [0.  0.1 0.2 0.1 0.  0.  0.4 0.2 0. ]]\n"
          ],
          "name": "stdout"
        },
        {
          "output_type": "display_data",
          "data": {
            "image/png": "[encoded data removed]",
            "text/plain": [
              "<Figure size 432x288 with 2 Axes>"
            ]
          },
          "metadata": {
            "tags": [],
            "needs_background": "light"
          }
        }
      ]
    },
    {
      "cell_type": "code",
      "metadata": {
        "id": "kNdczsBF-cul"
      },
      "source": [
        ""
      ],
      "execution_count": null,
      "outputs": []
    },
    {
      "cell_type": "code",
      "metadata": {
        "id": "kdTF4OIi-cum"
      },
      "source": [
        "#Trying out other method"
      ],
      "execution_count": null,
      "outputs": []
    },
    {
      "cell_type": "code",
      "metadata": {
        "id": "nhjIxyjR-cuo"
      },
      "source": [
        "from tensorflow.keras.preprocessing.image import ImageDataGenerator"
      ],
      "execution_count": null,
      "outputs": []
    },
    {
      "cell_type": "code",
      "metadata": {
        "id": "wu4m6vLN-cuo"
      },
      "source": [
        "image_size = 256\n",
        "train_datagen = ImageDataGenerator(rescale=1./255,\n",
        "        shear_range=0.2,\n",
        "        zoom_range=0.2,\n",
        "        horizontal_flip=True)"
      ],
      "execution_count": null,
      "outputs": []
    },
    {
      "cell_type": "code",
      "metadata": {
        "id": "EkfmPcc9-cup",
        "outputId": "af7ae735-6c4e-405b-e5a9-c3189c7642a3"
      },
      "source": [
        "test_datagen = ImageDataGenerator(rescale=1./255)\n",
        "train_generator = train_datagen.flow_from_directory(r'C:\\Users\\Lael\\PH482\\PH482_582\\Machine Learning Final Project - Copy\\Mushrooms_Split\\Train', \n",
        "                                                    batch_size=32, \n",
        "                                                    target_size = (128,128),\n",
        "                                                    class_mode = 'categorical')\n",
        "validation_generator = test_datagen.flow_from_directory(r'C:\\Users\\Lael\\PH482\\PH482_582\\Machine Learning Final Project - Copy\\Mushrooms_Split\\Validation', \n",
        "                                                    batch_size=32,\n",
        "                                                    target_size = (128,128),\n",
        "                                                    class_mode = 'categorical')"
      ],
      "execution_count": null,
      "outputs": [
        {
          "output_type": "stream",
          "text": [
            "Found 5373 images belonging to 9 classes.\n",
            "Found 1341 images belonging to 9 classes.\n"
          ],
          "name": "stdout"
        }
      ]
    },
    {
      "cell_type": "code",
      "metadata": {
        "id": "TFa-LEoW-cup"
      },
      "source": [
        "import tensorflow as tf\n",
        "from tensorflow.python.keras.engine.sequential import Sequential\n",
        "from tensorflow.keras.layers import Dense, Dropout, Activation, Flatten, Conv2D, MaxPooling2D\n",
        "import pickle\n",
        "\n",
        "\n",
        "model = Sequential()\n",
        "model.add(Conv2D(64, (3,3)))\n",
        "model.add(Activation(\"relu\"))\n",
        "model.add(MaxPooling2D(pool_size=(2,2)))\n",
        "\n",
        "#model = Sequential()\n",
        "#model.add( Conv2D(64, (3,3)) )\n",
        "#model.add(Activation(\"relu\"))\n",
        "#model.add(MaxPooling2D(pool_size=(2,2)))\n",
        "\n",
        "model.add(Flatten())\n",
        "model.add(Dense(64))\n",
        "\n",
        "model.add(Dense(9))\n",
        "model.add(Activation(\"softmax\"))\n",
        "\n",
        "model.compile(loss=\"categorical_crossentropy\", optimizer=\"adam\", metrics=['accuracy'])"
      ],
      "execution_count": null,
      "outputs": []
    },
    {
      "cell_type": "code",
      "metadata": {
        "scrolled": true,
        "id": "W3pT6g23-cup",
        "outputId": "cbcb7a68-a38e-4bf7-d1d7-c973c436a24e"
      },
      "source": [
        "model.fit(\n",
        "    train_generator,\n",
        "    steps_per_epoch=10,\n",
        "    epochs=20,\n",
        "    validation_data=validation_generator,\n",
        "    validation_steps=10\n",
        ")"
      ],
      "execution_count": null,
      "outputs": [
        {
          "output_type": "stream",
          "text": [
            "WARNING:tensorflow:sample_weight modes were coerced from\n",
            "  ...\n",
            "    to  \n",
            "  ['...']\n",
            "WARNING:tensorflow:sample_weight modes were coerced from\n",
            "  ...\n",
            "    to  \n",
            "  ['...']\n",
            "Train for 10 steps, validate for 10 steps\n",
            "Epoch 1/20\n",
            "10/10 [==============================] - 15s 1s/step - loss: 1.8373 - accuracy: 0.3531 - val_loss: 2.4127 - val_accuracy: 0.2906\n",
            "Epoch 2/20\n",
            "10/10 [==============================] - 14s 1s/step - loss: 1.9362 - accuracy: 0.2875 - val_loss: 2.2084 - val_accuracy: 0.2719\n",
            "Epoch 3/20\n",
            "10/10 [==============================] - 15s 1s/step - loss: 1.8582 - accuracy: 0.3187 - val_loss: 2.1859 - val_accuracy: 0.3031\n",
            "Epoch 4/20\n",
            "10/10 [==============================] - 15s 2s/step - loss: 1.8801 - accuracy: 0.3094 - val_loss: 2.1507 - val_accuracy: 0.3313\n",
            "Epoch 5/20\n",
            "10/10 [==============================] - 14s 1s/step - loss: 1.8863 - accuracy: 0.3406 - val_loss: 2.2054 - val_accuracy: 0.3187\n",
            "Epoch 6/20\n",
            "10/10 [==============================] - 14s 1s/step - loss: 1.7913 - accuracy: 0.3750 - val_loss: 2.4651 - val_accuracy: 0.2875\n",
            "Epoch 7/20\n",
            "10/10 [==============================] - 15s 1s/step - loss: 1.8937 - accuracy: 0.2937 - val_loss: 2.2465 - val_accuracy: 0.3250\n",
            "Epoch 8/20\n",
            "10/10 [==============================] - 16s 2s/step - loss: 1.8957 - accuracy: 0.3281 - val_loss: 2.2056 - val_accuracy: 0.3000\n",
            "Epoch 9/20\n",
            "10/10 [==============================] - 14s 1s/step - loss: 1.7857 - accuracy: 0.3719 - val_loss: 2.3412 - val_accuracy: 0.2875\n",
            "Epoch 10/20\n",
            "10/10 [==============================] - 15s 1s/step - loss: 1.8614 - accuracy: 0.3500 - val_loss: 2.1491 - val_accuracy: 0.3406\n",
            "Epoch 11/20\n",
            "10/10 [==============================] - 14s 1s/step - loss: 1.8471 - accuracy: 0.2906 - val_loss: 2.1522 - val_accuracy: 0.3469\n",
            "Epoch 12/20\n",
            "10/10 [==============================] - 15s 2s/step - loss: 1.8164 - accuracy: 0.3438 - val_loss: 2.1040 - val_accuracy: 0.3406\n",
            "Epoch 13/20\n",
            "10/10 [==============================] - 16s 2s/step - loss: 1.7086 - accuracy: 0.3594 - val_loss: 2.2373 - val_accuracy: 0.3187\n",
            "Epoch 14/20\n",
            "10/10 [==============================] - 15s 2s/step - loss: 1.7547 - accuracy: 0.4062 - val_loss: 2.1306 - val_accuracy: 0.3375\n",
            "Epoch 15/20\n",
            "10/10 [==============================] - 15s 2s/step - loss: 1.8297 - accuracy: 0.3250 - val_loss: 2.1090 - val_accuracy: 0.3344\n",
            "Epoch 16/20\n",
            "10/10 [==============================] - 17s 2s/step - loss: 1.8252 - accuracy: 0.3656 - val_loss: 2.5293 - val_accuracy: 0.3187\n",
            "Epoch 17/20\n",
            "10/10 [==============================] - 16s 2s/step - loss: 1.7846 - accuracy: 0.3812 - val_loss: 2.2118 - val_accuracy: 0.3438\n",
            "Epoch 18/20\n",
            "10/10 [==============================] - 15s 1s/step - loss: 1.7815 - accuracy: 0.3750 - val_loss: 2.5960 - val_accuracy: 0.3187\n",
            "Epoch 19/20\n",
            "10/10 [==============================] - 15s 2s/step - loss: 1.8495 - accuracy: 0.3000 - val_loss: 2.1475 - val_accuracy: 0.3719\n",
            "Epoch 20/20\n",
            "10/10 [==============================] - 15s 2s/step - loss: 1.8509 - accuracy: 0.3031 - val_loss: 2.2697 - val_accuracy: 0.3281\n"
          ],
          "name": "stdout"
        },
        {
          "output_type": "execute_result",
          "data": {
            "text/plain": [
              "<tensorflow.python.keras.callbacks.History at 0x1b3088114c8>"
            ]
          },
          "metadata": {
            "tags": []
          },
          "execution_count": 20
        }
      ]
    },
    {
      "cell_type": "code",
      "metadata": {
        "id": "NGlGmFXU-cup"
      },
      "source": [
        "model = Sequential()\n",
        "model.add(Conv2D(128, kernel_size=(3,3),padding='valid', activation='relu'))\n",
        "model.add(MaxPooling2D(pool_size=(1,1)))\n",
        "\n",
        "#model = Sequential()\n",
        "#model.add( Conv2D(64, (3,3)) )\n",
        "#model.add(Activation(\"relu\"))\n",
        "#model.add(MaxPooling2D(pool_size=(2,2)))\n",
        "\n",
        "model.add(Flatten())\n",
        "model.add(Dense(128,activation='relu'))\n",
        "\n",
        "model.add(Dense(9))\n",
        "model.add(Activation(\"softmax\"))\n",
        "\n",
        "model.compile(loss=\"categorical_crossentropy\", optimizer=\"adam\", metrics=['accuracy'])"
      ],
      "execution_count": null,
      "outputs": []
    },
    {
      "cell_type": "code",
      "metadata": {
        "id": "6vOMIkw5-cup",
        "outputId": "57889838-5833-442c-9037-b34b7d6cf60c"
      },
      "source": [
        "model.fit(\n",
        "    train_generator,\n",
        "    steps_per_epoch=10,\n",
        "    epochs=20,\n",
        "    validation_data=validation_generator,\n",
        "    validation_steps=10\n",
        ")"
      ],
      "execution_count": null,
      "outputs": [
        {
          "output_type": "stream",
          "text": [
            "WARNING:tensorflow:sample_weight modes were coerced from\n",
            "  ...\n",
            "    to  \n",
            "  ['...']\n",
            "Train for 10 steps, validate for 10 steps\n",
            "Epoch 1/20\n",
            "10/10 [==============================] - 9s 927ms/step - loss: 30.9579 - accuracy: 0.1469 - val_loss: 11.8250 - val_accuracy: 0.0312\n",
            "Epoch 2/20\n",
            "10/10 [==============================] - 9s 858ms/step - loss: 4.2101 - accuracy: 0.1813 - val_loss: 2.3257 - val_accuracy: 0.1562\n",
            "Epoch 3/20\n",
            "10/10 [==============================] - 9s 858ms/step - loss: 2.1385 - accuracy: 0.2188 - val_loss: 2.1548 - val_accuracy: 0.2188\n",
            "Epoch 4/20\n",
            "10/10 [==============================] - 8s 850ms/step - loss: 2.1174 - accuracy: 0.2688 - val_loss: 2.1277 - val_accuracy: 0.2219\n",
            "Epoch 5/20\n",
            "10/10 [==============================] - 9s 857ms/step - loss: 2.1128 - accuracy: 0.2594 - val_loss: 2.1045 - val_accuracy: 0.2219\n",
            "Epoch 6/20\n",
            "10/10 [==============================] - 9s 851ms/step - loss: 2.1105 - accuracy: 0.2062 - val_loss: 2.0763 - val_accuracy: 0.2250\n",
            "Epoch 7/20\n",
            "10/10 [==============================] - 9s 859ms/step - loss: 2.0546 - accuracy: 0.2375 - val_loss: 2.0598 - val_accuracy: 0.2156\n",
            "Epoch 8/20\n",
            "10/10 [==============================] - 9s 860ms/step - loss: 2.0574 - accuracy: 0.2250 - val_loss: 2.0480 - val_accuracy: 0.1969\n",
            "Epoch 9/20\n",
            "10/10 [==============================] - 8s 850ms/step - loss: 1.9656 - accuracy: 0.2750 - val_loss: 2.0846 - val_accuracy: 0.2250\n",
            "Epoch 10/20\n",
            "10/10 [==============================] - 8s 843ms/step - loss: 2.1076 - accuracy: 0.1875 - val_loss: 2.0415 - val_accuracy: 0.2375\n",
            "Epoch 11/20\n",
            "10/10 [==============================] - 8s 846ms/step - loss: 2.0487 - accuracy: 0.2219 - val_loss: 2.0219 - val_accuracy: 0.2250\n",
            "Epoch 12/20\n",
            "10/10 [==============================] - 9s 863ms/step - loss: 2.0374 - accuracy: 0.2281 - val_loss: 2.0233 - val_accuracy: 0.2344\n",
            "Epoch 13/20\n",
            "10/10 [==============================] - 9s 852ms/step - loss: 1.9656 - accuracy: 0.2500 - val_loss: 1.9981 - val_accuracy: 0.2250\n",
            "Epoch 14/20\n",
            "10/10 [==============================] - 8s 848ms/step - loss: 2.0833 - accuracy: 0.2031 - val_loss: 2.0131 - val_accuracy: 0.2188\n",
            "Epoch 15/20\n",
            "10/10 [==============================] - 9s 854ms/step - loss: 2.0238 - accuracy: 0.2469 - val_loss: 2.0021 - val_accuracy: 0.2313\n",
            "Epoch 16/20\n",
            "10/10 [==============================] - 9s 851ms/step - loss: 1.9360 - accuracy: 0.2781 - val_loss: 2.0141 - val_accuracy: 0.2281\n",
            "Epoch 17/20\n",
            "10/10 [==============================] - 9s 862ms/step - loss: 1.9789 - accuracy: 0.2344 - val_loss: 1.9862 - val_accuracy: 0.2344\n",
            "Epoch 18/20\n",
            "10/10 [==============================] - 9s 885ms/step - loss: 1.9994 - accuracy: 0.2594 - val_loss: 1.9842 - val_accuracy: 0.2406\n",
            "Epoch 19/20\n",
            "10/10 [==============================] - 9s 906ms/step - loss: 1.9757 - accuracy: 0.2719 - val_loss: 1.9923 - val_accuracy: 0.2219\n",
            "Epoch 20/20\n",
            "10/10 [==============================] - 9s 851ms/step - loss: 1.9826 - accuracy: 0.2281 - val_loss: 1.9755 - val_accuracy: 0.2188\n"
          ],
          "name": "stdout"
        },
        {
          "output_type": "execute_result",
          "data": {
            "text/plain": [
              "<tensorflow.python.keras.callbacks.History at 0x1b32b95b3c8>"
            ]
          },
          "metadata": {
            "tags": []
          },
          "execution_count": 33
        }
      ]
    },
    {
      "cell_type": "code",
      "metadata": {
        "id": "JRn8sp9S-cuq"
      },
      "source": [
        ""
      ],
      "execution_count": null,
      "outputs": []
    },
    {
      "cell_type": "markdown",
      "metadata": {
        "id": "O0Tl97Jjaf2Q"
      },
      "source": [
        ""
      ]
    }
  ]
}